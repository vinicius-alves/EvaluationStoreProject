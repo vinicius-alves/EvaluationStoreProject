{
 "cells": [
  {
   "cell_type": "code",
   "execution_count": 3,
   "metadata": {},
   "outputs": [],
   "source": [
    "import sys\n",
    "sys.path.append('./CrawlerAneel')\n",
    "from DownloadBaseDadosAbertos import DownloadBaseAneel\n",
    "from StorageHandler import LocalStorageHandler\n",
    "\n",
    "def main():\n",
    "    storage_handler = LocalStorageHandler(root = 'dados_consumo_aneel')\n",
    "    d = DownloadBaseAneel(storage_handler = storage_handler)\n",
    "    \n",
    "\n",
    "main()\n"
   ]
  },
  {
   "cell_type": "code",
   "execution_count": null,
   "metadata": {},
   "outputs": [],
   "source": []
  }
 ],
 "metadata": {
  "kernelspec": {
   "display_name": "Python 3.9.12 ('base')",
   "language": "python",
   "name": "python3"
  },
  "language_info": {
   "codemirror_mode": {
    "name": "ipython",
    "version": 3
   },
   "file_extension": ".py",
   "mimetype": "text/x-python",
   "name": "python",
   "nbconvert_exporter": "python",
   "pygments_lexer": "ipython3",
   "version": "3.12.2"
  },
  "vscode": {
   "interpreter": {
    "hash": "64d6ef16ba9ae639b05347c7cccc81d14381e095f3a8e87b5f46f7b8341e05f7"
   }
  }
 },
 "nbformat": 4,
 "nbformat_minor": 4
}
