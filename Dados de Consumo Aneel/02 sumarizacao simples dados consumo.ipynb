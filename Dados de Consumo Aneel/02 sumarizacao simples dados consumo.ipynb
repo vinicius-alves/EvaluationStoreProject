{
 "cells": [
  {
   "cell_type": "code",
   "execution_count": 1,
   "metadata": {},
   "outputs": [],
   "source": [
    "import pandas as pd\n",
    "import dask.dataframe as dd\n",
    "\n",
    "df = dd.read_csv('consumo/*/*.csv').compute()\n",
    "df['VlrMercado'] = df['VlrMercado'].str.replace(',','.', regex = False)\n",
    "df['VlrMercado'] = df['VlrMercado'].astype('float64')\n",
    "df['DscDetalheMercado'] = df['DscDetalheMercado'].str.lower()\n",
    "df_agrupado = df.groupby(['SigAgenteDistribuidora','DscDetalheMercado','DatCompetencia'], as_index = False )['VlrMercado'].sum()\n",
    "df_agrupado.to_parquet('dados_agrupados.parquet')"
   ]
  }
 ],
 "metadata": {
  "kernelspec": {
   "display_name": "base",
   "language": "python",
   "name": "python3"
  },
  "language_info": {
   "codemirror_mode": {
    "name": "ipython",
    "version": 3
   },
   "file_extension": ".py",
   "mimetype": "text/x-python",
   "name": "python",
   "nbconvert_exporter": "python",
   "pygments_lexer": "ipython3",
   "version": "3.12.2"
  }
 },
 "nbformat": 4,
 "nbformat_minor": 2
}
