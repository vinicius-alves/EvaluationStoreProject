{
 "cells": [
  {
   "cell_type": "code",
   "execution_count": 1,
   "metadata": {},
   "outputs": [],
   "source": [
    "import time\n",
    "import pandas as pd\n",
    "from tqdm.notebook import tqdm\n",
    "from selenium import webdriver\n",
    "import numpy as np \n",
    "from pathlib import Path\n",
    "from unidecode import unidecode\n",
    "import os \n",
    "\n",
    "path = 'google_scholar'\n",
    "\n",
    "root_folder = Path(path)\n",
    "root_folder.mkdir(parents=True, exist_ok=True)"
   ]
  },
  {
   "cell_type": "code",
   "execution_count": 2,
   "metadata": {},
   "outputs": [],
   "source": [
    "df_searchterms = pd.read_csv('searchterms.csv')\n",
    "df_seq = pd.DataFrame(np.arange(0,10000,10), columns = ['start'])\n",
    "\n",
    "df_searchterms['k']=1\n",
    "df_seq['k']=1\n",
    "\n",
    "df_searchterms = df_searchterms.merge(df_seq, on ='k').drop(columns = 'k')\n",
    "df_searchterms['searchterm'] = df_searchterms['searchterm'].map(lambda x: unidecode(x)).str.lower().str.strip()\n",
    "df_searchterms['folder'] = df_searchterms['searchterm'].str.replace(' ','_',regex = False)\n",
    "df_searchterms['url'] = \"https://scholar.google.com.br/scholar?start=\"+ df_searchterms['start'].astype('str')+\"&q=\"+df_searchterms['searchterm'].str.replace(' ','+',regex = False)+\"&hl=pt-BR&as_sdt=0,5\"\n",
    "df_searchterms['file'] = (\n",
    "    df_searchterms['url']\n",
    "    .str.replace(r'[^a-zA-Z0-9_]', '_', regex=True)  # substitui caracteres especiais por _\n",
    "    .str.replace(r'_+', '_', regex=True)             # múltiplos _ por 1 _\n",
    "    .str.strip('_')                                  # remove _ no começo/fim\n",
    "    + '.html'\n",
    ")\n",
    "\n",
    "#LIMITE PARA TESTES\n",
    "df_searchterms = df_searchterms[df_searchterms['start'] < 200].copy()"
   ]
  },
  {
   "cell_type": "code",
   "execution_count": 3,
   "metadata": {},
   "outputs": [],
   "source": [
    "df_searchterms.to_csv(path+'/google_scholar_search_base.csv', sep = ';', index = False)"
   ]
  },
  {
   "cell_type": "code",
   "execution_count": 4,
   "metadata": {},
   "outputs": [],
   "source": [
    "\n",
    "# Inicializa o navegador\n",
    "driver = webdriver.Chrome()\n",
    "url = f\"https://scholar.google.com.br/scholar?start=0&q=visualization+machine+learning&hl=pt-BR&as_sdt=0,5\"\n",
    "driver.get(url)\n",
    "\n"
   ]
  },
  {
   "cell_type": "code",
   "execution_count": 5,
   "metadata": {},
   "outputs": [
    {
     "data": {
      "application/vnd.jupyter.widget-view+json": {
       "model_id": "4f0216d748be48ecb03e68a523012aca",
       "version_major": 2,
       "version_minor": 0
      },
      "text/plain": [
       "  0%|          | 0/145 [00:00<?, ?it/s]"
      ]
     },
     "metadata": {},
     "output_type": "display_data"
    }
   ],
   "source": [
    "records_search = df_searchterms.to_dict(orient = 'records')\n",
    "records_search_filter = []\n",
    "for record in records_search:\n",
    "    local_folder = caminho_completo = root_folder /'raw_data' / record['folder']\n",
    "    local_folder.mkdir(parents=True, exist_ok=True)\n",
    "\n",
    "    local_file = local_folder / record['file']\n",
    "    if local_file.exists() and local_file.is_file():  \n",
    "        continue\n",
    "\n",
    "    records_search_filter.append((record, local_file))\n",
    "\n",
    "for record, local_file in tqdm(records_search_filter):\n",
    "\n",
    "    driver.get(record['url'])\n",
    "    time.sleep(2)\n",
    "    alpha, beta = 3,6\n",
    "    val = np.random.beta(alpha, beta)\n",
    "    wait_time = 1 + val * (3 - 1)\n",
    "    time.sleep(wait_time) \n",
    "\n",
    "    with open(local_file, \"w\", encoding=\"utf-8\") as f:\n",
    "        f.write(driver.page_source)\n",
    "\n",
    "    "
   ]
  },
  {
   "cell_type": "code",
   "execution_count": null,
   "metadata": {},
   "outputs": [],
   "source": []
  },
  {
   "cell_type": "code",
   "execution_count": null,
   "metadata": {},
   "outputs": [],
   "source": []
  },
  {
   "cell_type": "code",
   "execution_count": 6,
   "metadata": {},
   "outputs": [],
   "source": [
    "#for i in range(len(records_search_filter)):\n",
    "#    record, local_file = records_search_filter[i]\n",
    "#    local_file.unlink()"
   ]
  },
  {
   "cell_type": "code",
   "execution_count": null,
   "metadata": {},
   "outputs": [],
   "source": []
  }
 ],
 "metadata": {
  "kernelspec": {
   "display_name": "base",
   "language": "python",
   "name": "python3"
  },
  "language_info": {
   "codemirror_mode": {
    "name": "ipython",
    "version": 3
   },
   "file_extension": ".py",
   "mimetype": "text/x-python",
   "name": "python",
   "nbconvert_exporter": "python",
   "pygments_lexer": "ipython3",
   "version": "3.11.11"
  }
 },
 "nbformat": 4,
 "nbformat_minor": 2
}
