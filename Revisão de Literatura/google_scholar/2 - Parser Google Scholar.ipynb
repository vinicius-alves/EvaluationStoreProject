{
 "cells": [
  {
   "cell_type": "code",
   "execution_count": null,
   "metadata": {},
   "outputs": [],
   "source": [
    "import pandas as pd\n",
    "from tqdm.notebook import tqdm\n",
    "import numpy as np \n",
    "from pathlib import Path\n",
    "from bs4 import BeautifulSoup\n",
    "import re, time\n",
    "import requests\n",
    "tqdm.pandas()\n",
    "import tldextract\n",
    "from selenium import webdriver\n",
    "\n",
    "path = 'data'\n",
    "\n",
    "root_folder = Path(path)\n",
    "root_folder.mkdir(parents=True, exist_ok=True)"
   ]
  },
  {
   "cell_type": "code",
   "execution_count": 2,
   "metadata": {},
   "outputs": [],
   "source": [
    "files = list(root_folder.rglob(\"*\"))  \n",
    "files = [f for f in files if f.is_file() and f.suffix == \".html\"]\n",
    "\n",
    "df_searchterms = pd.read_csv(path+'/google_scholar_search_base.csv',sep =';')\n",
    "lst_name_files = [file.name for file in files]\n",
    "df_searchterms = df_searchterms[df_searchterms['file'].isin(lst_name_files)].copy()\n",
    "df_searchterms['path_file'] = path +'/raw_data/'+ df_searchterms['folder']+'/'+df_searchterms['file']"
   ]
  },
  {
   "cell_type": "code",
   "execution_count": 28,
   "metadata": {},
   "outputs": [
    {
     "data": {
      "application/vnd.jupyter.widget-view+json": {
       "model_id": "dab5decb48ec48b09b66e4e43dd4b67d",
       "version_major": 2,
       "version_minor": 0
      },
      "text/plain": [
       "  0%|          | 0/772 [00:00<?, ?it/s]"
      ]
     },
     "metadata": {},
     "output_type": "display_data"
    }
   ],
   "source": [
    "\n",
    "\n",
    "def process_file(path_file):\n",
    "    f = open(path_file,\"r\", encoding=\"utf-8\")\n",
    "    soup = BeautifulSoup(f.read(), \"html.parser\")\n",
    "    f.close()\n",
    "\n",
    "    lst_divs_resultado_busca = soup.find_all(\"div\", attrs={\"data-rp\": True})\n",
    "\n",
    "    lst_records = []\n",
    "\n",
    "    for bloco_resultado in lst_divs_resultado_busca:\n",
    "\n",
    "        main_div = bloco_resultado.find('div',{'class':'gs_ri'})\n",
    "        record = {}\n",
    "\n",
    "        record['href'] = None\n",
    "        href_div = main_div.find('a', href = True)\n",
    "        if href_div:\n",
    "            record['href'] = href_div['href']\n",
    "\n",
    "        record['title'] = None\n",
    "        title_div =  main_div.find('h3')\n",
    "        if title_div:\n",
    "            record['title'] = title_div.text\n",
    "\n",
    "        record['author_div'] = None\n",
    "        author_div = main_div.find('div',{'class':'gs_a'})\n",
    "        if author_div:\n",
    "            record['author_div'] = author_div.text\n",
    "\n",
    "        record['description'] = None\n",
    "        description_div = main_div.find('div',{'class':'gs_rs'})\n",
    "        if description_div:\n",
    "            record['description'] = description_div.text\n",
    "\n",
    "\n",
    "        record['citations'] = 0\n",
    "        citations_div = main_div.find('div',{'class':'gs_fl gs_flb'})\n",
    "        if citations_div:\n",
    "            match = re.search(r\"citado por (\\d+)\", citations_div.text, re.IGNORECASE)\n",
    "            if match:\n",
    "                record['citations'] = int(match.group(1))\n",
    "\n",
    "        secondary_div = bloco_resultado.find('div',{'class':'gs_ggs gs_fl'})\n",
    "\n",
    "        record['direct_label'] = None \n",
    "        record['direct_href'] = None \n",
    "        if secondary_div:\n",
    "            record['direct_label'] = secondary_div.text\n",
    "            direct_href_div = secondary_div.find('a',href = True)\n",
    "\n",
    "            if direct_href_div :\n",
    "                record['direct_href'] = direct_href_div['href']\n",
    "\n",
    "        lst_records.append(record)\n",
    "\n",
    "    return lst_records #pd.DataFrame(lst_records)\n",
    "\n",
    "df_searchterms['df'] = df_searchterms['path_file'].progress_map(lambda x : process_file(x))\n",
    "df_searchterms = df_searchterms.explode('df')\n",
    "for key in ['href', 'title', 'author_div', 'description', 'citations','direct_label','direct_href']:\n",
    "    df_searchterms[key] = df_searchterms['df'].map(lambda x : x[key])\n",
    "df_searchterms.drop(columns = 'df', inplace=True)"
   ]
  },
  {
   "cell_type": "code",
   "execution_count": 29,
   "metadata": {},
   "outputs": [],
   "source": [
    "df_searchterms['PDF'] = df_searchterms['direct_label'].str.contains('PDF', regex=False).astype('bool')\n",
    "df_searchterms['target_url'] = df_searchterms['direct_href'].fillna(df_searchterms['href'])\n",
    "\n",
    "\n",
    "ix = df_searchterms['target_url'].str.startswith('https://arxiv.org')\n",
    "df_searchterms.loc[ix,'PDF'] = True \n",
    "df_searchterms['target_url'] = df_searchterms['target_url'].str.replace('abs','pdf')\n",
    "\n",
    "ix = df_searchterms['target_url'].str.endswith('.pdf')\n",
    "df_searchterms.loc[ix,'PDF'] = True \n",
    "\n",
    "ix = df_searchterms['target_url'].str.startswith('https://dl.acm.org/doi/pdf/')\n",
    "df_searchterms.loc[ix,'target_url'] = df_searchterms.loc[ix,'target_url'].str.replace(\"pdf/\",'', regex = False)\n",
    "df_searchterms.loc[ix,'PDF'] = False \n",
    "\n",
    "ix = df_searchterms['target_url'].str.contains('sciencedirect')\n",
    "df_searchterms.loc[ix,'PDF'] = False \n",
    "\n",
    "\n",
    "df_searchterms['article_file'] = (\n",
    "    df_searchterms['target_url'].str.slice(0,100)\n",
    "    .str.replace(r'[^a-zA-Z0-9_]', '_', regex=True)  # substitui caracteres especiais por _\n",
    "    .str.replace(r'_+', '_', regex=True)             # múltiplos _ por 1 _\n",
    "    .str.strip('_')                         # remove _ no começo/fim\n",
    ")\n",
    "\n",
    "ix = df_searchterms['PDF'] \n",
    "df_searchterms.loc[ix,'article_file']+='.pdf'\n",
    "df_searchterms.loc[~ix,'article_file']+='.html'\n",
    "\n",
    "\n"
   ]
  },
  {
   "cell_type": "code",
   "execution_count": 30,
   "metadata": {},
   "outputs": [],
   "source": [
    "ix = df_searchterms['target_url'].notnull()\n",
    "df_searchterms.loc[ix,'domain'] = df_searchterms.loc[ix,'target_url'].map(lambda x:tldextract.extract(x).domain ) \n",
    "\n",
    "df_searchterms['domain_count'] = df_searchterms.groupby('domain')['domain'].transform('count')\n",
    "\n",
    "df_searchterms.sort_values(by = ['domain_count','domain','folder'],\\\n",
    "                            ascending=[False,False,False], ignore_index=True, inplace=True)"
   ]
  },
  {
   "cell_type": "code",
   "execution_count": 6,
   "metadata": {},
   "outputs": [],
   "source": [
    "df_searchterms.to_csv(path+'/google_scholar_search_base_article_detail.csv', sep = ';', index = False)"
   ]
  },
  {
   "cell_type": "code",
   "execution_count": 31,
   "metadata": {},
   "outputs": [],
   "source": [
    "\n",
    "df_searchterms['full_path_folder'] =  str(root_folder) + '/articles/' + df_searchterms['folder'] \n",
    "df_searchterms['full_path'] = df_searchterms['full_path_folder'] + '/'+ df_searchterms['article_file']\n",
    "files = list((root_folder / 'articles').rglob(\"*\"))  \n",
    "files = [str(f) for f in files if f.is_file() and f.suffix in (\".html\",'.pdf')]\n",
    "s = df_searchterms['full_path'].map(lambda x : str(Path(x)))\n",
    "df_searchterms = df_searchterms[~s.isin(files)]"
   ]
  },
  {
   "cell_type": "code",
   "execution_count": null,
   "metadata": {},
   "outputs": [],
   "source": []
  },
  {
   "cell_type": "code",
   "execution_count": null,
   "metadata": {},
   "outputs": [],
   "source": []
  },
  {
   "cell_type": "code",
   "execution_count": null,
   "metadata": {},
   "outputs": [],
   "source": [
    "df_searchterms = df_searchterms[df_searchterms['domain'] != 'sciencedirect']\n",
    "df_searchterms = df_searchterms[df_searchterms['domain'] != 'acm']\n",
    "df_searchterms = df_searchterms[df_searchterms['domain'] != 'researchgate']\n",
    "df_searchterms = df_searchterms[df_searchterms['domain'] != 'wiley']\n",
    "df_searchterms = df_searchterms[df_searchterms['domain'] != 'tandfonline']\n",
    "df_searchterms = df_searchterms[df_searchterms['domain'] != 'iop']\n",
    "df_searchterms = df_searchterms[df_searchterms['domain'] != 'oup']\n",
    "df_searchterms = df_searchterms[df_searchterms['domain'] != 'onepetro']\n",
    "df_searchterms = df_searchterms[df_searchterms['domain'] != 'acs']\n",
    "df_searchterms = df_searchterms[df_searchterms['domain'] != 'proquest']\n",
    "df_searchterms = df_searchterms[df_searchterms['domain'] != 'arvojournals']\n",
    "df_searchterms = df_searchterms[df_searchterms['domain'] != 'jstor']\n",
    "df_searchterms = df_searchterms[df_searchterms['domain'] != 'jacc']\n",
    "df_searchterms = df_searchterms[df_searchterms['domain'] != 'informit']\n",
    "df_searchterms = df_searchterms[df_searchterms['domain'] != 'asme']\n",
    "df_searchterms = df_searchterms[df_searchterms['domain'] != 'ascopubs']\n",
    "df_searchterms = df_searchterms[df_searchterms['domain'] != 'ascelibrary']\n",
    "df_searchterms = df_searchterms[df_searchterms['domain'] != 'cell']\n",
    "df_searchterms = df_searchterms[df_searchterms['domain'] != 'cabidigitallibrary']\n",
    "df_searchterms = df_searchterms[df_searchterms['domain'] != 'aiaa']\n",
    "df_searchterms = df_searchterms[df_searchterms['domain'] != 'spiedigitallibrary']\n",
    "df_searchterms = df_searchterms[df_searchterms['domain'] != 'siam']\n",
    "df_searchterms = df_searchterms[~df_searchterms['target_url'].str.contains('journal')]\n",
    "df_searchterms = df_searchterms[df_searchterms['domain'] != 'seg']\n",
    "df_searchterms = df_searchterms[df_searchterms['domain'] != 'policycommons']\n",
    "df_searchterms = df_searchterms[df_searchterms['domain'] != 'science']"
   ]
  },
  {
   "cell_type": "code",
   "execution_count": 33,
   "metadata": {},
   "outputs": [],
   "source": [
    "records = df_searchterms.to_dict(orient = 'records')"
   ]
  },
  {
   "cell_type": "code",
   "execution_count": 36,
   "metadata": {},
   "outputs": [],
   "source": [
    "# Inicializa o navegador\n",
    "driver = webdriver.Chrome()"
   ]
  },
  {
   "cell_type": "code",
   "execution_count": 35,
   "metadata": {},
   "outputs": [
    {
     "data": {
      "text/plain": [
       "'https://www.researchgate.net/profile/Martin-Bellgardt/publication/348526691_An_Immersive_Node-Link_Visualization_of_Artificial_Neural_Networks_for_Machine_Learning_Experts/links/602a6d5a92851c4ed5731997/An-Immersive-Node-Link-Visualization-of-Artificial-Neural-Networks-for-Machine-Learning-Experts.pdf'"
      ]
     },
     "execution_count": 35,
     "metadata": {},
     "output_type": "execute_result"
    }
   ],
   "source": [
    "df_searchterms['target_url'].values[0]"
   ]
  },
  {
   "cell_type": "code",
   "execution_count": 38,
   "metadata": {},
   "outputs": [],
   "source": [
    "url = df_searchterms['target_url'].values[0]\n",
    "#driver.get(url)"
   ]
  },
  {
   "cell_type": "code",
   "execution_count": null,
   "metadata": {},
   "outputs": [],
   "source": []
  },
  {
   "cell_type": "code",
   "execution_count": 17,
   "metadata": {},
   "outputs": [],
   "source": [
    "df_searchterms['PDF'] = False"
   ]
  },
  {
   "cell_type": "code",
   "execution_count": 13,
   "metadata": {},
   "outputs": [],
   "source": [
    "driver.get(url)"
   ]
  },
  {
   "cell_type": "code",
   "execution_count": 37,
   "metadata": {},
   "outputs": [
    {
     "data": {
      "application/vnd.jupyter.widget-view+json": {
       "model_id": "b770e4bfccc748c798d2768acde76a68",
       "version_major": 2,
       "version_minor": 0
      },
      "text/plain": [
       "  0%|          | 0/500 [00:00<?, ?it/s]"
      ]
     },
     "metadata": {},
     "output_type": "display_data"
    }
   ],
   "source": [
    "for record in tqdm(records):\n",
    "\n",
    "\n",
    "    full_path_folder =  Path(record['full_path_folder'])\n",
    "    full_path_folder.mkdir(parents=True, exist_ok=True)\n",
    "    full_path = Path(record['full_path'])\n",
    "\n",
    "    if full_path.exists() and full_path.is_file():  \n",
    "        continue\n",
    "    \n",
    "    url = record['target_url']\n",
    "    if not isinstance(url, str):\n",
    "        continue \n",
    "\n",
    "    error = False\n",
    "\n",
    "    if record['PDF']:\n",
    "        try:\n",
    "            response = requests.get(url,  timeout=20)\n",
    "\n",
    "            if response.status_code == 200:\n",
    "                with open(full_path, \"wb\") as f:\n",
    "                    f.write(response.content)\n",
    "            else:\n",
    "                error = True\n",
    "                    \n",
    "        except Exception as e:\n",
    "            print('erro em ',url)\n",
    "            print(e)\n",
    "            error = True\n",
    "\n",
    "    else:\n",
    "        try:\n",
    "            driver.get(url)\n",
    "            time.sleep(4)\n",
    "            alpha, beta = 2,5\n",
    "            val = np.random.beta(alpha, beta)\n",
    "            wait_time = 1 + val * (3 - 1)\n",
    "            time.sleep(wait_time) \n",
    "\n",
    "            if 'Confirme que você é humano' in driver.page_source:\n",
    "                continue\n",
    "\n",
    "            if 'Verificando se você é humano' in driver.page_source:\n",
    "                continue\n",
    "\n",
    "            with open(full_path, \"w\", encoding=\"utf-8\") as f:\n",
    "                f.write(driver.page_source)\n",
    "        except Exception as e:\n",
    "            print('erro em ',url)\n",
    "            print(e)\n",
    "            error = True\n",
    "\n",
    "    #if error:\n",
    "    #    with open(full_path, \"w\") as f:\n",
    "    #        f.write('')\n",
    "\n",
    "    \n",
    "\n",
    "    \n",
    "\n",
    "        \n"
   ]
  },
  {
   "cell_type": "code",
   "execution_count": null,
   "metadata": {},
   "outputs": [
    {
     "data": {
      "text/plain": [
       "422     True\n",
       "431     True\n",
       "442     True\n",
       "443     True\n",
       "448     True\n",
       "       ...  \n",
       "822    False\n",
       "823    False\n",
       "824    False\n",
       "825    False\n",
       "826    False\n",
       "Name: PDF, Length: 362, dtype: bool"
      ]
     },
     "execution_count": 14,
     "metadata": {},
     "output_type": "execute_result"
    }
   ],
   "source": []
  },
  {
   "cell_type": "code",
   "execution_count": null,
   "metadata": {},
   "outputs": [],
   "source": []
  }
 ],
 "metadata": {
  "kernelspec": {
   "display_name": "base",
   "language": "python",
   "name": "python3"
  },
  "language_info": {
   "codemirror_mode": {
    "name": "ipython",
    "version": 3
   },
   "file_extension": ".py",
   "mimetype": "text/x-python",
   "name": "python",
   "nbconvert_exporter": "python",
   "pygments_lexer": "ipython3",
   "version": "3.11.11"
  }
 },
 "nbformat": 4,
 "nbformat_minor": 2
}
