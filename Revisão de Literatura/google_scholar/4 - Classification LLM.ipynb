{
 "cells": [
  {
   "cell_type": "code",
   "execution_count": 5,
   "metadata": {},
   "outputs": [],
   "source": [
    "import pandas as pd\n",
    "import numpy as np\n",
    "from tqdm.notebook import tqdm\n",
    "from pathlib import Path\n",
    "from ollama import chat\n",
    "from ollama import ChatResponse\n",
    "\n",
    "\n",
    "path = 'data'\n",
    "root_folder = Path(path)\n",
    "root_folder.mkdir(parents=True, exist_ok=True)\n"
   ]
  },
  {
   "cell_type": "code",
   "execution_count": 35,
   "metadata": {},
   "outputs": [],
   "source": [
    "path = 'data'\n",
    " \n",
    "\n",
    "df_searchterms = pd.read_csv(path+'/google_scholar_search_base_article_detail_txt.csv',sep =';')\n",
    "df_searchterms['folder_score'] = path +'/score/'+ df_searchterms['folder']\n",
    "df_searchterms['file_score'] = df_searchterms['folder_score']+'/'+df_searchterms['article_file'].str.replace('.html','.txt').str.replace('.pdf','.txt')\n"
   ]
  },
  {
   "cell_type": "code",
   "execution_count": 36,
   "metadata": {},
   "outputs": [],
   "source": [
    "files = list((root_folder/'score' ).rglob(\"*\"))  \n",
    "files = [f for f in files if f.is_file() and f.suffix in (\".txt\")]\n",
    "lst_name_files = [file.name for file in files]\n",
    "s = df_searchterms['article_file'].str.replace('.html','.txt').str.replace('.pdf','.txt') \n",
    "df_searchterms = df_searchterms[~s.isin(lst_name_files)].copy()"
   ]
  },
  {
   "cell_type": "code",
   "execution_count": 37,
   "metadata": {},
   "outputs": [],
   "source": [
    "records = df_searchterms.to_dict(orient = 'records')"
   ]
  },
  {
   "cell_type": "code",
   "execution_count": 38,
   "metadata": {},
   "outputs": [],
   "source": [
    "f= open(\"prompt.xml\", \"r\", encoding=\"utf-8\") \n",
    "prompt = f.read()\n",
    "f.close()\n"
   ]
  },
  {
   "cell_type": "code",
   "execution_count": 39,
   "metadata": {},
   "outputs": [
    {
     "data": {
      "application/vnd.jupyter.widget-view+json": {
       "model_id": "9e055f537ede448eb740a485f31e8e9e",
       "version_major": 2,
       "version_minor": 0
      },
      "text/plain": [
       "  0%|          | 0/1908 [00:00<?, ?it/s]"
      ]
     },
     "metadata": {},
     "output_type": "display_data"
    }
   ],
   "source": [
    "for record in tqdm(records):\n",
    "\n",
    "\n",
    "    full_path_folder = Path(record['folder_score'])\n",
    "    full_path_folder.mkdir(parents=True, exist_ok=True)\n",
    "\n",
    "    full_path_txt = Path(record['path_txt_article'])\n",
    "    full_path_score = Path(record['file_score'])\n",
    "\n",
    "    if not(full_path_txt.exists() and full_path_txt.is_file()):  \n",
    "        continue\n",
    "\n",
    "    if full_path_score.exists() and full_path_score.is_file():  \n",
    "        continue\n",
    "\n",
    "    f= open(record['path_txt_article'], \"r\", encoding=\"utf-8\") \n",
    "    document = f.read()\n",
    "    f.close()\n",
    "\n",
    "    \n",
    "    response: ChatResponse = chat(model= 'qwen3:30b-a3b', messages=[\n",
    "    {\n",
    "        'role': 'user',\n",
    "        'content': prompt.format(document = document),\n",
    "    },\n",
    "    ])\n",
    "\n",
    "    content = response['message']['content']\n",
    "    with open(record['file_score'], \"w\", encoding=\"utf-8\") as f:\n",
    "        f.write(content)\n",
    "\n",
    "    break\n",
    "\n"
   ]
  },
  {
   "cell_type": "code",
   "execution_count": null,
   "metadata": {},
   "outputs": [],
   "source": []
  }
 ],
 "metadata": {
  "kernelspec": {
   "display_name": "base",
   "language": "python",
   "name": "python3"
  },
  "language_info": {
   "codemirror_mode": {
    "name": "ipython",
    "version": 3
   },
   "file_extension": ".py",
   "mimetype": "text/x-python",
   "name": "python",
   "nbconvert_exporter": "python",
   "pygments_lexer": "ipython3",
   "version": "3.11.11"
  }
 },
 "nbformat": 4,
 "nbformat_minor": 2
}
