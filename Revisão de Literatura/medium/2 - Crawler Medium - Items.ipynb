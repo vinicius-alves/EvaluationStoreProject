{
 "cells": [
  {
   "cell_type": "code",
   "execution_count": 1,
   "metadata": {},
   "outputs": [],
   "source": [
    "import time\n",
    "import pandas as pd\n",
    "from tqdm.notebook import tqdm\n",
    "from selenium import webdriver\n",
    "import numpy as np \n",
    "from pathlib import Path\n",
    "from unidecode import unidecode\n",
    "import requests, json\n",
    "\n",
    "path = 'data'\n",
    "\n",
    "root_folder = Path(path)\n",
    "root_folder.mkdir(parents=True, exist_ok=True)"
   ]
  },
  {
   "cell_type": "code",
   "execution_count": 2,
   "metadata": {},
   "outputs": [],
   "source": [
    "df_searchterms = pd.read_csv('../searchterms.csv') \n",
    "df_searchterms['searchterm'] = df_searchterms['searchterm'].map(lambda x: unidecode(x)).str.lower().str.strip()\n",
    "df_searchterms['folder'] = df_searchterms['searchterm'].str.replace(' ','_',regex = False) \n"
   ]
  },
  {
   "cell_type": "code",
   "execution_count": 3,
   "metadata": {},
   "outputs": [],
   "source": [
    "df_searchterms.to_csv(path+'/medium_search_base.csv', sep = ';', index = False)"
   ]
  },
  {
   "cell_type": "code",
   "execution_count": null,
   "metadata": {},
   "outputs": [],
   "source": [
    "path = 'data\\\\raw_data\\\\list_items\\\\mlops\\\\1.json'\n",
    "with open(path, mode = 'rb') as file:\n",
    "    r =file.read()\n",
    "    json_file  = json.loads(r)"
   ]
  },
  {
   "cell_type": "code",
   "execution_count": 10,
   "metadata": {},
   "outputs": [],
   "source": [
    "for item in json_file[0]['data']['search']['posts']['items']:\n",
    "    pass"
   ]
  },
  {
   "cell_type": "code",
   "execution_count": null,
   "metadata": {},
   "outputs": [],
   "source": []
  },
  {
   "cell_type": "code",
   "execution_count": null,
   "metadata": {},
   "outputs": [],
   "source": []
  },
  {
   "cell_type": "code",
   "execution_count": 11,
   "metadata": {},
   "outputs": [
    {
     "data": {
      "text/plain": [
       "{'id': 'c7ccffd3e9fe',\n",
       " 'algoliaObjectId': 'c7ccffd3e9fe',\n",
       " 'creator': {'__typename': 'User',\n",
       "  'name': 'ODSC - Open Data Science',\n",
       "  'username': 'odsc',\n",
       "  'id': '2b9d62538208',\n",
       "  'mediumMemberAt': 1617888366000,\n",
       "  'socialStats': {'followerCount': 140372, '__typename': 'SocialStats'},\n",
       "  'verifications': {'isBookAuthor': False, '__typename': 'VerifiedInfo'},\n",
       "  'customDomainState': {'live': {'domain': 'odsc.medium.com',\n",
       "    '__typename': 'CustomDomain'},\n",
       "   '__typename': 'CustomDomainState'},\n",
       "  'hasSubdomain': True,\n",
       "  'bio': 'Our passion is bringing thousands of the best and brightest data scientists together under one roof for an incredible learning and networking experience.',\n",
       "  'imageId': '2*xmanz0nHjUWhZDxHWKKaYg.png'},\n",
       " 'collection': None,\n",
       " 'extendedPreviewContent': {'bodyModel': {'sections': [{'name': '1ef2',\n",
       "     'startIndex': 0,\n",
       "     'textLayout': None,\n",
       "     'imageLayout': None,\n",
       "     'backgroundImage': None,\n",
       "     'videoLayout': None,\n",
       "     'backgroundVideo': None,\n",
       "     '__typename': 'Section'}],\n",
       "   'paragraphs': [{'id': 'f399c1769e64_preview_0',\n",
       "     'name': '7867',\n",
       "     'type': 'H3',\n",
       "     'href': None,\n",
       "     'layout': None,\n",
       "     'metadata': None,\n",
       "     'text': 'LLMOps vs MLOps: Understanding the Differences',\n",
       "     'hasDropCap': None,\n",
       "     'dropCapImage': None,\n",
       "     'markups': [],\n",
       "     '__typename': 'Paragraph',\n",
       "     'codeBlockMetadata': None,\n",
       "     'iframe': None,\n",
       "     'mixtapeMetadata': None},\n",
       "    {'id': 'f399c1769e64_preview_1',\n",
       "     'name': '2d49',\n",
       "     'type': 'IMG',\n",
       "     'href': None,\n",
       "     'layout': 'INSET_CENTER',\n",
       "     'metadata': {'id': '0*pNvn8CIhUY3vYdpC.jpg',\n",
       "      'originalHeight': 300,\n",
       "      'originalWidth': 639,\n",
       "      'focusPercentX': None,\n",
       "      'focusPercentY': None,\n",
       "      'alt': None,\n",
       "      '__typename': 'ImageMetadata'},\n",
       "     'text': '',\n",
       "     'hasDropCap': None,\n",
       "     'dropCapImage': None,\n",
       "     'markups': [],\n",
       "     '__typename': 'Paragraph',\n",
       "     'codeBlockMetadata': None,\n",
       "     'iframe': None,\n",
       "     'mixtapeMetadata': None},\n",
       "    {'id': 'f399c1769e64_preview_2',\n",
       "     'name': '4fdb',\n",
       "     'type': 'P',\n",
       "     'href': None,\n",
       "     'layout': None,\n",
       "     'metadata': None,\n",
       "     'text': 'Large language models are all the rage right now, and with that comes the need for better management, organization, and planning. Just as machine learning leads to MLOps, so too have LLMs led to LLMOps.',\n",
       "     'hasDropCap': None,\n",
       "     'dropCapImage': None,\n",
       "     'markups': [{'type': 'A',\n",
       "       'start': 183,\n",
       "       'end': 201,\n",
       "       'href': 'https://opendatascience.com/what-exactly-are-large-language-model-operations-llmops/',\n",
       "       'anchorType': 'LINK',\n",
       "       'userId': None,\n",
       "       'linkMetadata': None,\n",
       "       '__typename': 'Markup'},\n",
       "      {'type': 'STRONG',\n",
       "       'start': 183,\n",
       "       'end': 201,\n",
       "       'href': None,\n",
       "       'anchorType': None,\n",
       "       'userId': None,\n",
       "       'linkMetadata': None,\n",
       "       '__typename': 'Markup'}],\n",
       "     '__typename': 'Paragraph',\n",
       "     'codeBlockMetadata': None,\n",
       "     'iframe': None,\n",
       "     'mixtapeMetadata': None},\n",
       "    {'id': 'f399c1769e64_preview_3',\n",
       "     'name': '1504',\n",
       "     'type': 'P',\n",
       "     'href': None,\n",
       "     'layout': None,\n",
       "     'metadata': None,\n",
       "     'text': 'While LLMOps and MLOps have many similarities, such as ensuring data is clean and there…',\n",
       "     'hasDropCap': None,\n",
       "     'dropCapImage': None,\n",
       "     'markups': [],\n",
       "     '__typename': 'Paragraph',\n",
       "     'codeBlockMetadata': None,\n",
       "     'iframe': None,\n",
       "     'mixtapeMetadata': None}],\n",
       "   '__typename': 'RichText'},\n",
       "  'isFullContent': False,\n",
       "  '__typename': 'PreviewContent',\n",
       "  'subtitle': 'Large language models are all the rage right now, and with that comes the need for better management, organization, and planning. Just as…'},\n",
       " '__typename': 'Post',\n",
       " 'firstPublishedAt': 1697472096452,\n",
       " 'isLocked': False,\n",
       " 'isSeries': False,\n",
       " 'latestPublishedAt': 1697472096452,\n",
       " 'inResponseToCatalogResult': None,\n",
       " 'pinnedAt': 0,\n",
       " 'pinnedByCreatorAt': 0,\n",
       " 'previewImage': {'id': '0*pNvn8CIhUY3vYdpC.jpg',\n",
       "  'focusPercentX': None,\n",
       "  'focusPercentY': None,\n",
       "  '__typename': 'ImageMetadata'},\n",
       " 'readingTime': 3.49811320754717,\n",
       " 'sequence': None,\n",
       " 'title': 'LLMOps vs MLOps: Understanding the Differences',\n",
       " 'uniqueSlug': 'llmops-vs-mlops-understanding-the-differences-c7ccffd3e9fe',\n",
       " 'visibility': 'PUBLIC',\n",
       " 'pendingCollection': None,\n",
       " 'statusForCollection': None,\n",
       " 'isPublished': True,\n",
       " 'allowResponses': True,\n",
       " 'postResponses': {'count': 0, '__typename': 'PostResponses'},\n",
       " 'isLimitedState': False,\n",
       " 'mediumUrl': 'https://odsc.medium.com/llmops-vs-mlops-understanding-the-differences-c7ccffd3e9fe',\n",
       " 'voterCount': 18,\n",
       " 'recommenders': [],\n",
       " 'clapCount': 83,\n",
       " 'inResponseToEntityType': None,\n",
       " 'tags': [{'__typename': 'Tag',\n",
       "   'id': 'llm',\n",
       "   'displayTitle': 'Llm',\n",
       "   'normalizedTagSlug': 'llm'},\n",
       "  {'__typename': 'Tag',\n",
       "   'id': 'llmops',\n",
       "   'displayTitle': 'Llmops',\n",
       "   'normalizedTagSlug': 'llmops'},\n",
       "  {'__typename': 'Tag',\n",
       "   'id': 'mlops',\n",
       "   'displayTitle': 'Mlops',\n",
       "   'normalizedTagSlug': 'mlops'},\n",
       "  {'__typename': 'Tag',\n",
       "   'id': 'data-science',\n",
       "   'displayTitle': 'Data Science',\n",
       "   'normalizedTagSlug': 'data-science'},\n",
       "  {'__typename': 'Tag',\n",
       "   'id': 'artificial-intelligence',\n",
       "   'displayTitle': 'Artificial Intelligence',\n",
       "   'normalizedTagSlug': 'artificial-intelligence'}]}"
      ]
     },
     "execution_count": 11,
     "metadata": {},
     "output_type": "execute_result"
    }
   ],
   "source": [
    "item"
   ]
  },
  {
   "cell_type": "code",
   "execution_count": null,
   "metadata": {},
   "outputs": [],
   "source": []
  },
  {
   "cell_type": "code",
   "execution_count": 13,
   "metadata": {},
   "outputs": [],
   "source": [
    "url = 'https://medium.com/_/graphql'\n",
    "\n",
    "data = [\n",
    "  {\n",
    "    \"operationName\": \"PostPageQuery\",\n",
    "    \"variables\": {\n",
    "      \"postId\": \"6f4a9aced6af\",\n",
    "      \"postMeteringOptions\": {\n",
    "        \"referrer\": \"https://medium.com/@yugank.aman/complete-guide-to-llmops-c82104630734\"\n",
    "      },\n",
    "      \"includeShouldFollowPost\": False\n",
    "    },\n",
    "    \"query\": \"query PostPageQuery($postId: ID!, $postMeteringOptions: PostMeteringOptions, $includeShouldFollowPost: Boolean!) {\\n  postResult(id: $postId) {\\n    __typename\\n    ...PostResultError_postResult\\n    ... on Post {\\n      id\\n      collection {\\n        id\\n        googleAnalyticsId\\n        ...FloatingPublicationBio_collection\\n        ...MoreFromAuthorAndMaybePub_collection\\n        ...PostPublishersInfoSection_collection\\n        ...PublicationNav_collection\\n        __typename\\n      }\\n      content(postMeteringOptions: $postMeteringOptions) {\\n        isLockedPreviewOnly\\n        __typename\\n      }\\n      creator {\\n        id\\n        ...MastodonVerificationLink_user\\n        ...SuspendedBannerLoader_user\\n        ...MoreFromAuthorAndMaybePub_user\\n        ...PostPublishersInfoSection_user\\n        __typename\\n      }\\n      inResponseToEntityType\\n      isLocked\\n      ...Wall_post\\n      ...InteractivePostBody_post\\n      ...WithResponsesSidebar_post\\n      ...PostCanonicalizer_post\\n      ...PostFooterActionsBar_post\\n      ...PostReadTracker_post\\n      ...PostMetadata_post\\n      ...SuspendedBannerLoader_post\\n      ...PostFooterInfo_post\\n      ...PostBodyInserts_post\\n      ...PostNoteMissingToast_post\\n      ...usePostTracking_post\\n      ...InResponseToEntityPreview_post\\n      ...PostPublishedDialog_prerequisite_post\\n      ...PostResponses_post\\n      ...PostPublishersInfoSection_post\\n      ...UseSubscribeToAuthorOnScroll_post\\n      __typename\\n    }\\n  }\\n}\\n\\nfragment UnavailableForLegalReasonsScreen_unavailableForLegalReasons on UnavailableForLegalReasons {\\n  lumenId\\n  __typename\\n}\\n\\nfragment WithheldInCountryScreen_withheldInCountry on WithheldInCountry {\\n  lumenId\\n  __typename\\n}\\n\\nfragment collectionUrl_collection on Collection {\\n  id\\n  domain\\n  slug\\n  __typename\\n}\\n\\nfragment CollectionAvatar_collection on Collection {\\n  name\\n  avatar {\\n    id\\n    __typename\\n  }\\n  ...collectionUrl_collection\\n  __typename\\n  id\\n}\\n\\nfragment PublisherDescription_publisher on Publisher {\\n  __typename\\n  id\\n  ... on Collection {\\n    description\\n    __typename\\n    id\\n  }\\n  ... on User {\\n    bio\\n    __typename\\n    id\\n  }\\n}\\n\\nfragment SignInOptions_collection on Collection {\\n  id\\n  name\\n  __typename\\n}\\n\\nfragment SignUpOptions_collection on Collection {\\n  id\\n  name\\n  __typename\\n}\\n\\nfragment SusiModal_collection on Collection {\\n  name\\n  ...SignInOptions_collection\\n  ...SignUpOptions_collection\\n  __typename\\n  id\\n}\\n\\nfragment SusiClickable_collection on Collection {\\n  ...SusiModal_collection\\n  __typename\\n  id\\n}\\n\\nfragment CollectionFollowButton_collection on Collection {\\n  __typename\\n  id\\n  slug\\n  name\\n  ...SusiClickable_collection\\n}\\n\\nfragment useIsVerifiedBookAuthor_user on User {\\n  verifications {\\n    isBookAuthor\\n    __typename\\n  }\\n  __typename\\n  id\\n}\\n\\nfragment userUrl_user on User {\\n  __typename\\n  id\\n  customDomainState {\\n    live {\\n      domain\\n      __typename\\n    }\\n    __typename\\n  }\\n  hasSubdomain\\n  username\\n}\\n\\nfragment PublisherLink_user on User {\\n  ...userUrl_user\\n  __typename\\n  id\\n}\\n\\nfragment SignInOptions_user on User {\\n  id\\n  name\\n  imageId\\n  __typename\\n}\\n\\nfragment SignUpOptions_user on User {\\n  id\\n  name\\n  imageId\\n  __typename\\n}\\n\\nfragment SusiModal_user on User {\\n  ...SignInOptions_user\\n  ...SignUpOptions_user\\n  __typename\\n  id\\n}\\n\\nfragment useNewsletterV3Subscription_newsletterV3 on NewsletterV3 {\\n  id\\n  type\\n  slug\\n  name\\n  collection {\\n    slug\\n    __typename\\n    id\\n  }\\n  user {\\n    id\\n    name\\n    username\\n    newsletterV3 {\\n      id\\n      __typename\\n    }\\n    __typename\\n  }\\n  __typename\\n}\\n\\nfragment useNewsletterV3Subscription_user on User {\\n  id\\n  username\\n  newsletterV3 {\\n    ...useNewsletterV3Subscription_newsletterV3\\n    __typename\\n    id\\n  }\\n  __typename\\n}\\n\\nfragment useAuthorFollowSubscribeButton_user on User {\\n  id\\n  name\\n  ...useNewsletterV3Subscription_user\\n  __typename\\n}\\n\\nfragment useAuthorFollowSubscribeButton_newsletterV3 on NewsletterV3 {\\n  id\\n  name\\n  ...useNewsletterV3Subscription_newsletterV3\\n  __typename\\n}\\n\\nfragment AuthorFollowSubscribeButton_user on User {\\n  id\\n  name\\n  imageId\\n  ...SusiModal_user\\n  ...useAuthorFollowSubscribeButton_user\\n  newsletterV3 {\\n    id\\n    ...useAuthorFollowSubscribeButton_newsletterV3\\n    __typename\\n  }\\n  __typename\\n}\\n\\nfragment PublisherLink_collection on Collection {\\n  ...collectionUrl_collection\\n  __typename\\n  id\\n}\\n\\nfragment PublicationFollowSubscribeButton_collection on Collection {\\n  id\\n  slug\\n  name\\n  ...SusiModal_collection\\n  __typename\\n}\\n\\nfragment PublisherName_publisher on Publisher {\\n  id\\n  name\\n  __typename\\n}\\n\\nfragment PublisherFollowersCount_publisher on Publisher {\\n  id\\n  __typename\\n  id\\n  ... on Collection {\\n    slug\\n    subscriberCount\\n    ...collectionUrl_collection\\n    __typename\\n    id\\n  }\\n  ... on User {\\n    socialStats {\\n      followerCount\\n      __typename\\n    }\\n    username\\n    ...userUrl_user\\n    __typename\\n    id\\n  }\\n}\\n\\nfragment UserAvatar_user on User {\\n  __typename\\n  id\\n  imageId\\n  membership {\\n    tier\\n    __typename\\n    id\\n  }\\n  name\\n  username\\n  ...userUrl_user\\n}\\n\\nfragment PublisherAvatar_publisher on Publisher {\\n  __typename\\n  ... on Collection {\\n    id\\n    ...CollectionAvatar_collection\\n    __typename\\n  }\\n  ... on User {\\n    id\\n    ...UserAvatar_user\\n    __typename\\n  }\\n}\\n\\nfragment usePostUrl_post on Post {\\n  id\\n  creator {\\n    ...userUrl_user\\n    __typename\\n    id\\n  }\\n  collection {\\n    id\\n    domain\\n    slug\\n    __typename\\n  }\\n  isSeries\\n  mediumUrl\\n  sequence {\\n    slug\\n    __typename\\n  }\\n  uniqueSlug\\n  __typename\\n}\\n\\nfragment CollectionLastPostDate_collection on Collection {\\n  __typename\\n  ... on Collection {\\n    latestPostsConnection(paging: {limit: 1}) {\\n      posts {\\n        id\\n        firstPublishedAt\\n        ...usePostUrl_post\\n        __typename\\n      }\\n      __typename\\n    }\\n    __typename\\n    id\\n  }\\n  id\\n}\\n\\nfragment PublisherFollowingCount_publisher on Publisher {\\n  __typename\\n  id\\n  ... on User {\\n    socialStats {\\n      followingCount\\n      collectionFollowingCount\\n      __typename\\n    }\\n    username\\n    __typename\\n    id\\n  }\\n}\\n\\nfragment PublisherFollowingCountOrLastPostDate_publisher on Publisher {\\n  __typename\\n  ... on Collection {\\n    ...CollectionLastPostDate_collection\\n    __typename\\n    id\\n  }\\n  ...PublisherFollowingCount_publisher\\n}\\n\\nfragment PostPublisherInfo_publisher on Publisher {\\n  __typename\\n  id\\n  name\\n  ... on User {\\n    ...useIsVerifiedBookAuthor_user\\n    ...PublisherLink_user\\n    ...AuthorFollowSubscribeButton_user\\n    __typename\\n    id\\n  }\\n  ... on Collection {\\n    ...PublisherLink_collection\\n    ...PublicationFollowSubscribeButton_collection\\n    __typename\\n    id\\n  }\\n  ...PublisherName_publisher\\n  ...PublisherFollowersCount_publisher\\n  ...PublisherDescription_publisher\\n  ...PublisherAvatar_publisher\\n  ...PublisherFollowingCountOrLastPostDate_publisher\\n}\\n\\nfragment PublicationNavColorBar_collection on Collection {\\n  id\\n  avatar {\\n    id\\n    __typename\\n  }\\n  customStyleSheet {\\n    id\\n    global {\\n      colorPalette {\\n        background {\\n          rgb\\n          __typename\\n        }\\n        primary {\\n          rgb\\n          __typename\\n        }\\n        __typename\\n      }\\n      __typename\\n    }\\n    __typename\\n  }\\n  isAuroraVisible\\n  tintColor\\n  __typename\\n}\\n\\nfragment PublicationNavMobileItems_collection on Collection {\\n  id\\n  ...CollectionFollowButton_collection\\n  __typename\\n}\\n\\nfragment SusiModal_post on Post {\\n  id\\n  creator {\\n    id\\n    __typename\\n  }\\n  __typename\\n}\\n\\nfragment SusiClickable_post on Post {\\n  id\\n  mediumUrl\\n  ...SusiModal_post\\n  __typename\\n}\\n\\nfragment RegWall_post on Post {\\n  id\\n  lockedSource\\n  ...SusiClickable_post\\n  __typename\\n}\\n\\nfragment EntityPaywall_post on Post {\\n  id\\n  creator {\\n    name\\n    __typename\\n    id\\n  }\\n  __typename\\n}\\n\\nfragment AspirationalPaywall_post on Post {\\n  ...EntityPaywall_post\\n  __typename\\n  id\\n}\\n\\nfragment ProgrammingPaywall_post on Post {\\n  ...EntityPaywall_post\\n  __typename\\n  id\\n}\\n\\nfragment PersonalizedPaywall_post on Post {\\n  id\\n  __typename\\n}\\n\\nfragment Paywall_post on Post {\\n  id\\n  creator {\\n    id\\n    name\\n    imageId\\n    __typename\\n  }\\n  primaryTopic {\\n    slug\\n    __typename\\n    id\\n  }\\n  topics {\\n    slug\\n    __typename\\n  }\\n  ...AspirationalPaywall_post\\n  ...ProgrammingPaywall_post\\n  ...PersonalizedPaywall_post\\n  __typename\\n}\\n\\nfragment DropCap_image on ImageMetadata {\\n  id\\n  originalHeight\\n  originalWidth\\n  __typename\\n}\\n\\nfragment MarkupNode_data_dropCapImage on ImageMetadata {\\n  ...DropCap_image\\n  __typename\\n  id\\n}\\n\\nfragment Markups_markup on Markup {\\n  type\\n  start\\n  end\\n  href\\n  anchorType\\n  userId\\n  linkMetadata {\\n    httpStatus\\n    __typename\\n  }\\n  __typename\\n}\\n\\nfragment Markups_paragraph on Paragraph {\\n  name\\n  text\\n  hasDropCap\\n  dropCapImage {\\n    ...MarkupNode_data_dropCapImage\\n    __typename\\n    id\\n  }\\n  markups {\\n    ...Markups_markup\\n    __typename\\n  }\\n  __typename\\n  id\\n}\\n\\nfragment ParagraphRefsMapContext_paragraph on Paragraph {\\n  id\\n  name\\n  text\\n  __typename\\n}\\n\\nfragment PostViewNoteCard_paragraph on Paragraph {\\n  name\\n  __typename\\n  id\\n}\\n\\nfragment PostAnnotationsMarker_paragraph on Paragraph {\\n  ...PostViewNoteCard_paragraph\\n  __typename\\n  id\\n}\\n\\nfragment ImageParagraph_paragraph on Paragraph {\\n  href\\n  layout\\n  metadata {\\n    id\\n    originalHeight\\n    originalWidth\\n    focusPercentX\\n    focusPercentY\\n    alt\\n    __typename\\n  }\\n  ...Markups_paragraph\\n  ...ParagraphRefsMapContext_paragraph\\n  ...PostAnnotationsMarker_paragraph\\n  __typename\\n  id\\n}\\n\\nfragment TextParagraph_paragraph on Paragraph {\\n  type\\n  hasDropCap\\n  codeBlockMetadata {\\n    mode\\n    lang\\n    __typename\\n  }\\n  ...Markups_paragraph\\n  ...ParagraphRefsMapContext_paragraph\\n  __typename\\n  id\\n}\\n\\nfragment IframeParagraph_paragraph on Paragraph {\\n  type\\n  iframe {\\n    mediaResource {\\n      id\\n      iframeSrc\\n      iframeHeight\\n      iframeWidth\\n      title\\n      __typename\\n    }\\n    __typename\\n  }\\n  layout\\n  ...Markups_paragraph\\n  __typename\\n  id\\n}\\n\\nfragment GenericMixtapeParagraph_paragraph on Paragraph {\\n  text\\n  mixtapeMetadata {\\n    href\\n    thumbnailImageId\\n    __typename\\n  }\\n  markups {\\n    start\\n    end\\n    type\\n    href\\n    __typename\\n  }\\n  __typename\\n  id\\n}\\n\\nfragment MixtapeParagraph_paragraph on Paragraph {\\n  type\\n  mixtapeMetadata {\\n    href\\n    mediaResource {\\n      mediumCatalog {\\n        id\\n        __typename\\n      }\\n      __typename\\n    }\\n    __typename\\n  }\\n  ...GenericMixtapeParagraph_paragraph\\n  __typename\\n  id\\n}\\n\\nfragment CodeBlockParagraph_paragraph on Paragraph {\\n  codeBlockMetadata {\\n    lang\\n    mode\\n    __typename\\n  }\\n  __typename\\n  id\\n}\\n\\nfragment PostBodyParagraph_paragraph on Paragraph {\\n  name\\n  type\\n  ...ImageParagraph_paragraph\\n  ...TextParagraph_paragraph\\n  ...IframeParagraph_paragraph\\n  ...MixtapeParagraph_paragraph\\n  ...CodeBlockParagraph_paragraph\\n  __typename\\n  id\\n}\\n\\nfragment PostBodySection_paragraph on Paragraph {\\n  name\\n  ...PostBodyParagraph_paragraph\\n  __typename\\n  id\\n}\\n\\nfragment normalizedBodyModel_richText_paragraphs_markups on Markup {\\n  type\\n  __typename\\n}\\n\\nfragment getParagraphHighlights_paragraph on Paragraph {\\n  name\\n  __typename\\n  id\\n}\\n\\nfragment getParagraphPrivateNotes_paragraph on Paragraph {\\n  name\\n  __typename\\n  id\\n}\\n\\nfragment normalizedBodyModel_richText_paragraphs on Paragraph {\\n  markups {\\n    ...normalizedBodyModel_richText_paragraphs_markups\\n    __typename\\n  }\\n  codeBlockMetadata {\\n    lang\\n    mode\\n    __typename\\n  }\\n  ...getParagraphHighlights_paragraph\\n  ...getParagraphPrivateNotes_paragraph\\n  __typename\\n  id\\n}\\n\\nfragment getSectionEndIndex_section on Section {\\n  startIndex\\n  __typename\\n}\\n\\nfragment getParagraphStyles_richText on RichText {\\n  paragraphs {\\n    text\\n    type\\n    __typename\\n  }\\n  sections {\\n    ...getSectionEndIndex_section\\n    __typename\\n  }\\n  __typename\\n}\\n\\nfragment paragraphExtendsImageGrid_paragraph on Paragraph {\\n  layout\\n  type\\n  __typename\\n  id\\n}\\n\\nfragment getSeriesParagraphTopSpacings_richText on RichText {\\n  paragraphs {\\n    id\\n    __typename\\n  }\\n  sections {\\n    ...getSectionEndIndex_section\\n    __typename\\n  }\\n  __typename\\n}\\n\\nfragment getPostParagraphTopSpacings_richText on RichText {\\n  paragraphs {\\n    type\\n    layout\\n    text\\n    codeBlockMetadata {\\n      lang\\n      mode\\n      __typename\\n    }\\n    __typename\\n  }\\n  sections {\\n    ...getSectionEndIndex_section\\n    __typename\\n  }\\n  __typename\\n}\\n\\nfragment getParagraphSpaces_richText on RichText {\\n  paragraphs {\\n    layout\\n    metadata {\\n      originalHeight\\n      originalWidth\\n      id\\n      __typename\\n    }\\n    type\\n    ...paragraphExtendsImageGrid_paragraph\\n    __typename\\n  }\\n  ...getSeriesParagraphTopSpacings_richText\\n  ...getPostParagraphTopSpacings_richText\\n  __typename\\n}\\n\\nfragment normalizedBodyModel_richText on RichText {\\n  paragraphs {\\n    ...normalizedBodyModel_richText_paragraphs\\n    __typename\\n  }\\n  sections {\\n    startIndex\\n    ...getSectionEndIndex_section\\n    __typename\\n  }\\n  ...getParagraphStyles_richText\\n  ...getParagraphSpaces_richText\\n  __typename\\n}\\n\\nfragment PostBody_bodyModel on RichText {\\n  sections {\\n    name\\n    startIndex\\n    textLayout\\n    imageLayout\\n    backgroundImage {\\n      id\\n      originalHeight\\n      originalWidth\\n      __typename\\n    }\\n    videoLayout\\n    backgroundVideo {\\n      videoId\\n      originalHeight\\n      originalWidth\\n      previewImageId\\n      __typename\\n    }\\n    __typename\\n  }\\n  paragraphs {\\n    id\\n    ...PostBodySection_paragraph\\n    __typename\\n  }\\n  ...normalizedBodyModel_richText\\n  __typename\\n}\\n\\nfragment HighlighSegmentContext_paragraph on Paragraph {\\n  ...ParagraphRefsMapContext_paragraph\\n  __typename\\n  id\\n}\\n\\nfragment NormalizeHighlights_paragraph on Paragraph {\\n  name\\n  text\\n  __typename\\n  id\\n}\\n\\nfragment HighlightMenuOption_post on Post {\\n  id\\n  latestPublishedVersion\\n  __typename\\n}\\n\\nfragment RespondMenuOption_post on Post {\\n  id\\n  latestPublishedVersion\\n  __typename\\n}\\n\\nfragment ShareMenuOption_post on Post {\\n  id\\n  latestPublishedVersion\\n  creator {\\n    name\\n    __typename\\n    id\\n  }\\n  __typename\\n}\\n\\nfragment SelectionMenuPopover_post on Post {\\n  isPublished\\n  allowResponses\\n  isLimitedState\\n  responsesLocked\\n  visibility\\n  isLocked\\n  creator {\\n    allowNotes\\n    __typename\\n    id\\n  }\\n  ...HighlightMenuOption_post\\n  ...RespondMenuOption_post\\n  ...ShareMenuOption_post\\n  __typename\\n  id\\n}\\n\\nfragment SelectionMenu_post on Post {\\n  isPublished\\n  creator {\\n    allowNotes\\n    __typename\\n    id\\n  }\\n  ...SelectionMenuPopover_post\\n  __typename\\n  id\\n}\\n\\nfragment PostNewNoteCard_post on Post {\\n  id\\n  latestPublishedVersion\\n  __typename\\n}\\n\\nfragment ActiveSelectionContext_post on Post {\\n  id\\n  ...SelectionMenu_post\\n  ...PostNewNoteCard_post\\n  __typename\\n}\\n\\nfragment ReportUserMenuItem_post on Post {\\n  __typename\\n  id\\n  creator {\\n    id\\n    __typename\\n  }\\n  ...SusiClickable_post\\n}\\n\\nfragment useHideResponseParent_post on Post {\\n  __typename\\n  id\\n  creator {\\n    id\\n    __typename\\n  }\\n  collection {\\n    id\\n    viewerEdge {\\n      id\\n      isEditor\\n      __typename\\n    }\\n    __typename\\n  }\\n}\\n\\nfragment HideResponseMenuItemParent_post on Post {\\n  id\\n  ...useHideResponseParent_post\\n  __typename\\n}\\n\\nfragment BlockUserMenuItem_post on Post {\\n  __typename\\n  id\\n  creator {\\n    id\\n    __typename\\n  }\\n}\\n\\nfragment UndoClapsMenuItem_post on Post {\\n  id\\n  clapCount\\n  __typename\\n}\\n\\nfragment DeleteResponseMenuItem_post on Post {\\n  creator {\\n    id\\n    __typename\\n  }\\n  __typename\\n  id\\n}\\n\\nfragment useReportStory_post on Post {\\n  id\\n  creator {\\n    id\\n    __typename\\n  }\\n  __typename\\n}\\n\\nfragment ReportResponseDialog_post on Post {\\n  __typename\\n  id\\n  creator {\\n    id\\n    __typename\\n  }\\n  ...useHideResponseParent_post\\n  ...useReportStory_post\\n}\\n\\nfragment ResponsePopoverMenu_post on Post {\\n  id\\n  responseDistribution\\n  ...ReportUserMenuItem_post\\n  ...HideResponseMenuItemParent_post\\n  ...BlockUserMenuItem_post\\n  ...UndoClapsMenuItem_post\\n  ...DeleteResponseMenuItem_post\\n  ...ReportResponseDialog_post\\n  __typename\\n}\\n\\nfragment ResponseHeaderParentEntity_post on Post {\\n  __typename\\n  creator {\\n    id\\n    __typename\\n  }\\n  ...ResponsePopoverMenu_post\\n  id\\n}\\n\\nfragment SimpleResponseParentEntity_post on Post {\\n  ...ResponseHeaderParentEntity_post\\n  __typename\\n  id\\n}\\n\\nfragment ReadOrEditSimpleResponseParentEntity_post on Post {\\n  __typename\\n  id\\n  ...SimpleResponseParentEntity_post\\n}\\n\\nfragment StoryResponseParentEntity_post on Post {\\n  id\\n  ...ResponseHeaderParentEntity_post\\n  __typename\\n}\\n\\nfragment ThreadedReplyParentEntity_post on Post {\\n  __typename\\n  id\\n  ...ReadOrEditSimpleResponseParentEntity_post\\n  ...StoryResponseParentEntity_post\\n}\\n\\nfragment ThreadedRepliesParentEntity_post on Post {\\n  __typename\\n  id\\n  ...ThreadedReplyParentEntity_post\\n}\\n\\nfragment ThreadedResponsesSidebarContent_post on Post {\\n  id\\n  latestPublishedVersion\\n  postResponses {\\n    count\\n    __typename\\n  }\\n  collection {\\n    id\\n    viewerEdge {\\n      id\\n      isEditor\\n      __typename\\n    }\\n    __typename\\n  }\\n  creator {\\n    id\\n    __typename\\n  }\\n  ...ThreadedRepliesParentEntity_post\\n  __typename\\n}\\n\\nfragment ThreadedResponsesSidebar_post on Post {\\n  id\\n  ...ThreadedResponsesSidebarContent_post\\n  __typename\\n}\\n\\nfragment SusiClickable_user on User {\\n  ...SusiModal_user\\n  __typename\\n  id\\n}\\n\\nfragment MultiVoteCount_post on Post {\\n  id\\n  __typename\\n}\\n\\nfragment MultiVote_post on Post {\\n  id\\n  creator {\\n    id\\n    ...SusiClickable_user\\n    __typename\\n  }\\n  isPublished\\n  ...SusiClickable_post\\n  collection {\\n    id\\n    slug\\n    __typename\\n  }\\n  isLimitedState\\n  ...MultiVoteCount_post\\n  __typename\\n}\\n\\nfragment useCopyFriendLink_post on Post {\\n  ...usePostUrl_post\\n  __typename\\n  id\\n}\\n\\nfragment UpsellClickable_post on Post {\\n  id\\n  collection {\\n    id\\n    __typename\\n  }\\n  sequence {\\n    sequenceId\\n    __typename\\n  }\\n  creator {\\n    id\\n    __typename\\n  }\\n  __typename\\n}\\n\\nfragment FriendLink_post on Post {\\n  id\\n  ...SusiClickable_post\\n  ...useCopyFriendLink_post\\n  ...UpsellClickable_post\\n  __typename\\n}\\n\\nfragment PostSharePopover_post on Post {\\n  id\\n  mediumUrl\\n  title\\n  isPublished\\n  isLocked\\n  ...usePostUrl_post\\n  ...FriendLink_post\\n  __typename\\n}\\n\\nfragment FollowMenuOptions_user on User {\\n  id\\n  ...AuthorFollowSubscribeButton_user\\n  __typename\\n}\\n\\nfragment FollowMenuOptions_collection on Collection {\\n  id\\n  name\\n  __typename\\n}\\n\\nfragment ClapMutation_post on Post {\\n  __typename\\n  id\\n  clapCount\\n  ...MultiVoteCount_post\\n}\\n\\nfragment OverflowMenuItemUndoClaps_post on Post {\\n  id\\n  clapCount\\n  ...ClapMutation_post\\n  __typename\\n}\\n\\nfragment AddToCatalogBase_post on Post {\\n  id\\n  isPublished\\n  ...SusiClickable_post\\n  __typename\\n}\\n\\nfragment NegativeSignalModal_publisher on Publisher {\\n  __typename\\n  id\\n  name\\n}\\n\\nfragment NegativeSignalModal_post on Post {\\n  id\\n  creator {\\n    ...NegativeSignalModal_publisher\\n    viewerEdge {\\n      id\\n      isMuting\\n      __typename\\n    }\\n    __typename\\n    id\\n  }\\n  collection {\\n    ...NegativeSignalModal_publisher\\n    viewerEdge {\\n      id\\n      isMuting\\n      __typename\\n    }\\n    __typename\\n    id\\n  }\\n  __typename\\n}\\n\\nfragment ExplicitSignalMenuOptions_post on Post {\\n  ...NegativeSignalModal_post\\n  __typename\\n  id\\n}\\n\\nfragment OverflowMenu_post on Post {\\n  id\\n  creator {\\n    id\\n    ...FollowMenuOptions_user\\n    __typename\\n  }\\n  collection {\\n    id\\n    ...FollowMenuOptions_collection\\n    __typename\\n  }\\n  ...OverflowMenuItemUndoClaps_post\\n  ...AddToCatalogBase_post\\n  ...ExplicitSignalMenuOptions_post\\n  __typename\\n}\\n\\nfragment OverflowMenuButton_post on Post {\\n  id\\n  visibility\\n  ...OverflowMenu_post\\n  __typename\\n}\\n\\nfragment AddToCatalogBookmarkButton_post on Post {\\n  ...AddToCatalogBase_post\\n  __typename\\n  id\\n}\\n\\nfragment BookmarkButton_post on Post {\\n  visibility\\n  ...SusiClickable_post\\n  ...AddToCatalogBookmarkButton_post\\n  __typename\\n  id\\n}\\n\\nfragment PostJsonLd_logo on ImageMetadata {\\n  id\\n  originalWidth\\n  originalHeight\\n  __typename\\n}\\n\\nfragment PostJsonLd_collection on Collection {\\n  id\\n  name\\n  domain\\n  slug\\n  logo {\\n    ...PostJsonLd_logo\\n    __typename\\n    id\\n  }\\n  __typename\\n}\\n\\nfragment getPostContentAsString_post on Post {\\n  content(postMeteringOptions: $postMeteringOptions) {\\n    bodyModel {\\n      paragraphs {\\n        text\\n        type\\n        mixtapeMetadata {\\n          href\\n          __typename\\n        }\\n        __typename\\n      }\\n      __typename\\n    }\\n    __typename\\n  }\\n  __typename\\n  id\\n}\\n\\nfragment appendPostContext_post on Post {\\n  id\\n  sequence {\\n    title\\n    __typename\\n  }\\n  collection {\\n    name\\n    __typename\\n    id\\n  }\\n  creator {\\n    name\\n    __typename\\n    id\\n  }\\n  __typename\\n}\\n\\nfragment maybeAppendProductName_collection on Collection {\\n  id\\n  domain\\n  __typename\\n}\\n\\nfragment postTitle_post on Post {\\n  id\\n  title\\n  seoTitle\\n  firstPublishedAt\\n  ...getPostContentAsString_post\\n  ...appendPostContext_post\\n  collection {\\n    id\\n    name\\n    domain\\n    ...maybeAppendProductName_collection\\n    __typename\\n  }\\n  creator {\\n    name\\n    __typename\\n    id\\n  }\\n  previewContent {\\n    subtitle\\n    __typename\\n  }\\n  __typename\\n}\\n\\nfragment GetTitleIndexMap_bodyModel on RichText {\\n  paragraphs {\\n    type\\n    text\\n    __typename\\n  }\\n  __typename\\n}\\n\\nfragment getTitleDetails_post on Post {\\n  id\\n  content(postMeteringOptions: $postMeteringOptions) {\\n    bodyModel {\\n      ...GetTitleIndexMap_bodyModel\\n      __typename\\n    }\\n    __typename\\n  }\\n  ...getPostContentAsString_post\\n  __typename\\n}\\n\\nfragment getTitleForPost_post on Post {\\n  id\\n  title\\n  ...postTitle_post\\n  ...getTitleDetails_post\\n  __typename\\n}\\n\\nfragment PostJsonLd_post on Post {\\n  id\\n  title\\n  seoTitle\\n  mediumUrl\\n  creator {\\n    name\\n    username\\n    ...userUrl_user\\n    __typename\\n    id\\n  }\\n  collection {\\n    ...PostJsonLd_collection\\n    __typename\\n    id\\n  }\\n  previewImage {\\n    id\\n    focusPercentX\\n    focusPercentY\\n    originalWidth\\n    originalHeight\\n    __typename\\n  }\\n  isLocked\\n  firstPublishedAt\\n  updatedAt\\n  isShortform\\n  shortformType\\n  ...getTitleForPost_post\\n  __typename\\n}\\n\\nfragment postMetaDescription_post on Post {\\n  id\\n  title\\n  seoDescription\\n  metaDescription\\n  creator {\\n    id\\n    name\\n    __typename\\n  }\\n  collection {\\n    id\\n    name\\n    __typename\\n  }\\n  previewContent {\\n    subtitle\\n    __typename\\n  }\\n  ...getPostContentAsString_post\\n  __typename\\n}\\n\\nfragment shortformPostMetaDescription_post on Post {\\n  id\\n  metaDescription\\n  seoDescription\\n  shortformType\\n  title\\n  ...getPostContentAsString_post\\n  __typename\\n}\\n\\nfragment shouldIndexPost_post on Post {\\n  id\\n  firstPublishedAt\\n  isShortform\\n  shortformType\\n  visibility\\n  ...getPostContentAsString_post\\n  viewerEdge {\\n    shouldIndexPostForExternalSearch\\n    __typename\\n    id\\n  }\\n  __typename\\n}\\n\\nfragment shouldFollowPost_post on Post {\\n  viewerEdge {\\n    id\\n    shouldFollowPostForExternalSearch\\n    __typename\\n  }\\n  __typename\\n  id\\n}\\n\\nfragment shortformPostTitle_post on Post {\\n  id\\n  title\\n  seoTitle\\n  shortformType\\n  ...getPostContentAsString_post\\n  ...appendPostContext_post\\n  collection {\\n    ...maybeAppendProductName_collection\\n    __typename\\n    id\\n  }\\n  __typename\\n}\\n\\nfragment PostFooterTags_post on Post {\\n  id\\n  tags {\\n    __typename\\n    id\\n    displayTitle\\n    normalizedTagSlug\\n  }\\n  __typename\\n}\\n\\nfragment OverlappingAvatars_user on User {\\n  __typename\\n  id\\n  imageId\\n  name\\n  username\\n  ...userUrl_user\\n}\\n\\nfragment UserMentionTooltip_user on User {\\n  id\\n  name\\n  bio\\n  ...UserAvatar_user\\n  ...AuthorFollowSubscribeButton_user\\n  ...useIsVerifiedBookAuthor_user\\n  __typename\\n}\\n\\nfragment AuthorByline_user on User {\\n  __typename\\n  id\\n  name\\n  ...useIsVerifiedBookAuthor_user\\n  ...userUrl_user\\n  ...UserMentionTooltip_user\\n  ...AuthorFollowSubscribeButton_user\\n}\\n\\nfragment PostByline_user on User {\\n  ...AuthorByline_user\\n  __typename\\n  id\\n}\\n\\nfragment PostBodyInserts_paragraph on Paragraph {\\n  name\\n  text\\n  type\\n  __typename\\n  id\\n}\\n\\nfragment AuthorFollowSubscribeButton_post on Post {\\n  id\\n  ...SusiModal_post\\n  __typename\\n}\\n\\nfragment AuthorByline_post on Post {\\n  ...AuthorFollowSubscribeButton_post\\n  __typename\\n  id\\n}\\n\\nfragment shouldShowPublishedInStatus_post on Post {\\n  statusForCollection\\n  isPublished\\n  __typename\\n  id\\n}\\n\\nfragment CollectionByline_post on Post {\\n  ...shouldShowPublishedInStatus_post\\n  __typename\\n  id\\n}\\n\\nfragment BoldCollectionName_collection on Collection {\\n  id\\n  name\\n  __typename\\n}\\n\\nfragment DraftStatus_post on Post {\\n  id\\n  pendingCollection {\\n    id\\n    creator {\\n      id\\n      __typename\\n    }\\n    ...BoldCollectionName_collection\\n    __typename\\n  }\\n  statusForCollection\\n  creator {\\n    id\\n    __typename\\n  }\\n  isPublished\\n  __typename\\n}\\n\\nfragment PostBylineDescription_post on Post {\\n  id\\n  isNewsletter\\n  collection {\\n    slug\\n    __typename\\n    id\\n  }\\n  ...CollectionByline_post\\n  ...DraftStatus_post\\n  __typename\\n}\\n\\nfragment MaybeTextToSpeech_post on Post {\\n  id\\n  detectedLanguage\\n  wordCount\\n  isPublished\\n  __typename\\n}\\n\\nfragment PostByline_post on Post {\\n  id\\n  postResponses {\\n    count\\n    __typename\\n  }\\n  allowResponses\\n  isLimitedState\\n  isPublished\\n  ...AuthorByline_post\\n  ...PostBylineDescription_post\\n  ...MultiVote_post\\n  ...BookmarkButton_post\\n  ...MaybeTextToSpeech_post\\n  ...PostSharePopover_post\\n  ...OverflowMenuButton_post\\n  __typename\\n}\\n\\nfragment useShouldShowPostPageMeter_post on Post {\\n  id\\n  creator {\\n    id\\n    __typename\\n  }\\n  isLocked\\n  lockedSource\\n  content(postMeteringOptions: $postMeteringOptions) {\\n    isLockedPreviewOnly\\n    validatedShareKey\\n    __typename\\n  }\\n  __typename\\n}\\n\\nfragment FriendLinkSharer_user on User {\\n  id\\n  name\\n  ...userUrl_user\\n  __typename\\n}\\n\\nfragment FriendLinkMeter_postContent on PostContent {\\n  validatedShareKey\\n  shareKeyCreator {\\n    ...FriendLinkSharer_user\\n    __typename\\n    id\\n  }\\n  __typename\\n}\\n\\nfragment MeterClickable_post on Post {\\n  id\\n  ...UpsellClickable_post\\n  __typename\\n}\\n\\nfragment FriendLinkMeter_post on Post {\\n  id\\n  content(postMeteringOptions: $postMeteringOptions) {\\n    ...FriendLinkMeter_postContent\\n    __typename\\n  }\\n  creator {\\n    ...FriendLinkSharer_user\\n    __typename\\n    id\\n  }\\n  ...MeterClickable_post\\n  __typename\\n}\\n\\nfragment PostPageMeter_post on Post {\\n  id\\n  content(postMeteringOptions: $postMeteringOptions) {\\n    isLockedPreviewOnly\\n    __typename\\n  }\\n  ...FriendLinkMeter_post\\n  ...MeterClickable_post\\n  __typename\\n}\\n\\nfragment Star_post on Post {\\n  id\\n  creator {\\n    id\\n    __typename\\n  }\\n  isLocked\\n  __typename\\n}\\n\\nfragment FeaturedStoryPopover_post on Post {\\n  id\\n  collection {\\n    id\\n    name\\n    slug\\n    ...CollectionAvatar_collection\\n    __typename\\n  }\\n  __typename\\n}\\n\\nfragment FeaturedStoryLabel_post on Post {\\n  isFeaturedInPublishedPublication\\n  id\\n  creator {\\n    id\\n    __typename\\n  }\\n  collection {\\n    id\\n    __typename\\n  }\\n  ...FeaturedStoryPopover_post\\n  __typename\\n}\\n\\nfragment StarAndFeaturedInsert_post on Post {\\n  isLocked\\n  ...Star_post\\n  ...FeaturedStoryLabel_post\\n  __typename\\n  id\\n}\\n\\nfragment usePostClientViewedReporter_post on Post {\\n  id\\n  isPublished\\n  isLocked\\n  collection {\\n    id\\n    slug\\n    __typename\\n  }\\n  content(postMeteringOptions: $postMeteringOptions) {\\n    validatedShareKey\\n    isLockedPreviewOnly\\n    __typename\\n  }\\n  __typename\\n}\\n\\nfragment buildBranchViewData_post on Post {\\n  creator {\\n    name\\n    id\\n    __typename\\n  }\\n  collection {\\n    name\\n    id\\n    __typename\\n  }\\n  layerCake\\n  primaryTopic {\\n    id\\n    slug\\n    name\\n    __typename\\n  }\\n  content(postMeteringOptions: $postMeteringOptions) {\\n    isLockedPreviewOnly\\n    __typename\\n  }\\n  __typename\\n  id\\n}\\n\\nfragment usePostBranchView_post on Post {\\n  id\\n  isPublished\\n  isLocked\\n  collection {\\n    id\\n    slug\\n    domain\\n    __typename\\n  }\\n  ...buildBranchViewData_post\\n  __typename\\n}\\n\\nfragment PostResponseParentEntity_post on Post {\\n  ...ReadOrEditSimpleResponseParentEntity_post\\n  ...StoryResponseParentEntity_post\\n  __typename\\n  id\\n}\\n\\nfragment PostResponsesContent_post on Post {\\n  responsesLocked\\n  postResponses {\\n    count\\n    __typename\\n  }\\n  creator {\\n    id\\n    __typename\\n  }\\n  collection {\\n    viewerEdge {\\n      isEditor\\n      __typename\\n      id\\n    }\\n    __typename\\n    id\\n  }\\n  ...PostResponseParentEntity_post\\n  __typename\\n  id\\n}\\n\\nfragment PublicationFollowSubscribeButton_post on Post {\\n  id\\n  ...SusiModal_post\\n  __typename\\n}\\n\\nfragment PostPublisherInfo_post on Post {\\n  id\\n  ...AuthorFollowSubscribeButton_post\\n  ...PublicationFollowSubscribeButton_post\\n  __typename\\n}\\n\\nfragment PostResultError_postResult on PostResult {\\n  __typename\\n  ... on Post {\\n    id\\n    __typename\\n  }\\n  ... on UnavailableForLegalReasons {\\n    ...UnavailableForLegalReasonsScreen_unavailableForLegalReasons\\n    __typename\\n  }\\n  ... on WithheldInCountry {\\n    ...WithheldInCountryScreen_withheldInCountry\\n    __typename\\n  }\\n}\\n\\nfragment FloatingPublicationBio_collection on Collection {\\n  id\\n  ...CollectionAvatar_collection\\n  ...PublisherDescription_publisher\\n  ...CollectionFollowButton_collection\\n  __typename\\n}\\n\\nfragment MoreFromAuthorAndMaybePub_collection on Collection {\\n  id\\n  name\\n  ...collectionUrl_collection\\n  __typename\\n}\\n\\nfragment PostPublishersInfoSection_collection on Collection {\\n  ...PostPublisherInfo_publisher\\n  __typename\\n  id\\n}\\n\\nfragment PublicationNav_collection on Collection {\\n  id\\n  name\\n  slug\\n  ...PublicationNavColorBar_collection\\n  ...PublicationNavMobileItems_collection\\n  __typename\\n}\\n\\nfragment MastodonVerificationLink_user on User {\\n  id\\n  linkedAccounts {\\n    mastodon {\\n      domain\\n      username\\n      __typename\\n      id\\n    }\\n    __typename\\n    id\\n  }\\n  __typename\\n}\\n\\nfragment SuspendedBannerLoader_user on User {\\n  id\\n  isSuspended\\n  __typename\\n}\\n\\nfragment MoreFromAuthorAndMaybePub_user on User {\\n  __typename\\n  id\\n  name\\n  imageId\\n  ...userUrl_user\\n}\\n\\nfragment PostPublishersInfoSection_user on User {\\n  ...PostPublisherInfo_publisher\\n  __typename\\n  id\\n}\\n\\nfragment Wall_post on Post {\\n  content(postMeteringOptions: $postMeteringOptions) {\\n    isLockedPreviewOnly\\n    __typename\\n  }\\n  isLocked\\n  isMarkedPaywallOnly\\n  ...RegWall_post\\n  ...Paywall_post\\n  __typename\\n  id\\n}\\n\\nfragment InteractivePostBody_post on Post {\\n  id\\n  isLimitedState\\n  isPublished\\n  allowResponses\\n  content(postMeteringOptions: $postMeteringOptions) {\\n    isLockedPreviewOnly\\n    bodyModel {\\n      ...PostBody_bodyModel\\n      paragraphs {\\n        ...HighlighSegmentContext_paragraph\\n        ...NormalizeHighlights_paragraph\\n        __typename\\n      }\\n      __typename\\n    }\\n    __typename\\n  }\\n  creator {\\n    id\\n    allowNotes\\n    __typename\\n  }\\n  ...ActiveSelectionContext_post\\n  __typename\\n}\\n\\nfragment WithResponsesSidebar_post on Post {\\n  id\\n  ...ThreadedResponsesSidebar_post\\n  __typename\\n}\\n\\nfragment PostCanonicalizer_post on Post {\\n  mediumUrl\\n  __typename\\n  id\\n}\\n\\nfragment PostFooterActionsBar_post on Post {\\n  id\\n  visibility\\n  allowResponses\\n  postResponses {\\n    count\\n    __typename\\n  }\\n  isLimitedState\\n  creator {\\n    id\\n    __typename\\n  }\\n  collection {\\n    id\\n    __typename\\n  }\\n  ...MultiVote_post\\n  ...PostSharePopover_post\\n  ...OverflowMenuButton_post\\n  ...BookmarkButton_post\\n  __typename\\n}\\n\\nfragment PostReadTracker_post on Post {\\n  id\\n  collection {\\n    slug\\n    __typename\\n    id\\n  }\\n  sequence {\\n    sequenceId\\n    __typename\\n  }\\n  content(postMeteringOptions: $postMeteringOptions) {\\n    isLockedPreviewOnly\\n    __typename\\n  }\\n  __typename\\n}\\n\\nfragment PostMetadata_post on Post {\\n  id\\n  socialTitle\\n  socialDek\\n  canonicalUrl\\n  mediumUrl\\n  metaDescription\\n  latestPublishedAt\\n  visibility\\n  isLimitedState\\n  readingTime\\n  creator {\\n    name\\n    twitterScreenName\\n    ...userUrl_user\\n    __typename\\n    id\\n  }\\n  collection {\\n    twitterUsername\\n    facebookPageId\\n    __typename\\n    id\\n  }\\n  previewContent {\\n    subtitle\\n    __typename\\n  }\\n  previewImage {\\n    id\\n    alt\\n    focusPercentX\\n    focusPercentY\\n    originalHeight\\n    originalWidth\\n    __typename\\n  }\\n  isShortform\\n  ...PostJsonLd_post\\n  ...postMetaDescription_post\\n  ...shortformPostMetaDescription_post\\n  ...shouldIndexPost_post\\n  ...shouldFollowPost_post @include(if: $includeShouldFollowPost)\\n  ...shortformPostTitle_post\\n  ...getTitleDetails_post\\n  ...getTitleForPost_post\\n  __typename\\n}\\n\\nfragment SuspendedBannerLoader_post on Post {\\n  id\\n  isSuspended\\n  __typename\\n}\\n\\nfragment PostFooterInfo_post on Post {\\n  id\\n  license\\n  visibility\\n  ...PostFooterTags_post\\n  __typename\\n}\\n\\nfragment PostBodyInserts_post on Post {\\n  creator {\\n    ...OverlappingAvatars_user\\n    ...PostByline_user\\n    __typename\\n    id\\n  }\\n  firstPublishedAt\\n  isLocked\\n  isShortform\\n  readingTime\\n  isFeaturedInPublishedPublication\\n  content(postMeteringOptions: $postMeteringOptions) {\\n    isLockedPreviewOnly\\n    bodyModel {\\n      paragraphs {\\n        ...PostBodyInserts_paragraph\\n        __typename\\n      }\\n      sections {\\n        startIndex\\n        __typename\\n      }\\n      __typename\\n    }\\n    __typename\\n  }\\n  ...PostByline_post\\n  ...useShouldShowPostPageMeter_post\\n  ...PostPageMeter_post\\n  ...StarAndFeaturedInsert_post\\n  __typename\\n  id\\n}\\n\\nfragment PostNoteMissingToast_post on Post {\\n  id\\n  __typename\\n}\\n\\nfragment usePostTracking_post on Post {\\n  ...usePostClientViewedReporter_post\\n  ...usePostBranchView_post\\n  __typename\\n  id\\n}\\n\\nfragment InResponseToEntityPreview_post on Post {\\n  id\\n  inResponseToEntityType\\n  __typename\\n}\\n\\nfragment PostPublishedDialog_prerequisite_post on Post {\\n  id\\n  creator {\\n    id\\n    __typename\\n  }\\n  collection {\\n    id\\n    __typename\\n  }\\n  __typename\\n}\\n\\nfragment PostResponses_post on Post {\\n  isPublished\\n  allowResponses\\n  isLimitedState\\n  ...PostResponsesContent_post\\n  __typename\\n  id\\n}\\n\\nfragment PostPublishersInfoSection_post on Post {\\n  ...PostPublisherInfo_post\\n  __typename\\n  id\\n}\\n\\nfragment UseSubscribeToAuthorOnScroll_post on Post {\\n  id\\n  isLocked\\n  mediumUrl\\n  ...SusiModal_post\\n  creator {\\n    id\\n    name\\n    ...SusiModal_user\\n    __typename\\n  }\\n  __typename\\n}\\n\"\n",
    "  }\n",
    "]\n",
    "\n",
    "headers  = {\n",
    "    'Content-Type':'application/json'\n",
    "    \n",
    "}"
   ]
  },
  {
   "cell_type": "code",
   "execution_count": 14,
   "metadata": {},
   "outputs": [],
   "source": [
    "r = requests.post(url, data= json.dumps(data), headers = headers)"
   ]
  },
  {
   "cell_type": "code",
   "execution_count": 32,
   "metadata": {},
   "outputs": [
    {
     "data": {
      "text/plain": [
       "['Top 10 Open-Source LLM Models and Their Uses',\n",
       " 'Explore the best open-source large language models (LLMs) of Feb 2025. Learn their features, applications, and a few use cases.',\n",
       " '',\n",
       " 'As of Feb 2025, the landscape of open-source Large Language Models (LLMs) has evolved significantly. Below is an updated list of the top 11 open-source LLMs, including their release dates, parameter sizes, and primary use cases:',\n",
       " 'Lets Understand Open Models vs. Open-Source Language Models',\n",
       " 'Language models can be categorized into three types: proprietary, open models (or open weights), and open-source models. Proprietary models, such as OpenAI’s GPT-4 and Anthropic’s Claude 3 Opus, are only accessible through paid APIs or web interfaces. Open models, like Meta’s Llama 2 or Mistral’s Mixtral 8x7B, have their model architectures and weights openly available on the internet. Finally, open-source models like OLMo by AI2 provide complete pre-training data, training code, evaluation code, and model weights, enabling academics and researchers to re-create and analyze the model in depth.',\n",
       " 'Introduction to Open-Source LLMs',\n",
       " 'Open-source LLMs are freely available models trained on vast datasets. These models allow customization and scalability for diverse applications, ranging from content generation to conversational AI.',\n",
       " '1. LLaMA 3.1',\n",
       " 'LLaMA 3.1, created by Meta, is a powerful and adaptable large language model designed to meet a range of computational requirements, thanks to its availability in multiple sizes.',\n",
       " 'Developed by : Meta AI\\n• Release Date: July 23, 2024\\n• Parameter Size: 405 billion\\n• Use Case: Large-scale enterprise applications, advanced research, and complex problem-solving.\\n• Applications:',\n",
       " '1)Enterprise AI: Powering large-scale customer support systems, document summarization, and knowledge management.\\n2)Scientific Research: Assisting in data analysis, hypothesis generation, and literature reviews.\\n3)Content Creation: Generating high-quality, long-form content like reports, articles, and technical documentation.',\n",
       " 'For a detailed look at its technical architecture, refer to the paper Llama 3 Herd of Models',\n",
       " '2. DeepSeek-R1',\n",
       " 'Developed by: DeepSeek\\n• Release Date: Jan, 2025\\n• Parameter Size: 671 billion\\n• Use Case: General-purpose AI applications with a focus on efficiency and scalability.\\n• Applications:',\n",
       " '1) Chatbots: Deploying conversational AI for customer service or personal assistants.\\n2) Education: Providing tutoring, answering questions, and generating educational content.\\n3)Data Analysis: Extracting insights from structured and unstructured data.',\n",
       " 'For a detailed look at its technical architecture, refer to the paper here',\n",
       " '3. Qwen 2.5 72B',\n",
       " 'Developed by: Alibaba\\n• Release Date: September 19, 2024\\n• Parameter Size: 72 billion\\n• Use Case: Multilingual and multimodal applications.\\n• Applications:',\n",
       " '1)Multilingual Support: Translating and generating content in multiple languages.\\n2) Multimodal Tasks: Combining text and image understanding for applications like visual question answering.\\n3) Global Enterprises: Supporting international teams with language and cultural adaptation.',\n",
       " 'For a details, refer to the paper here',\n",
       " '4.Mistral 7B',\n",
       " 'Developed by Mistral AI\\n• Release Date: September 27, 2023\\n• Parameter Size: 7.3 billion\\n• Use Case: Lightweight, efficient applications with limited computational resources.\\n• Applications:',\n",
       " '1) Edge Devices: Running on devices with limited processing power, like smartphones or IoT devices.\\n2) Personal Assistants: Providing quick, context-aware responses for personal use.\\n3) Prototyping: Testing and developing AI applications without requiring heavy infrastructure.',\n",
       " 'For a details, refer to the paper here',\n",
       " '5.Falcon 180B',\n",
       " 'Developed by: Technology Innovation Institute (TII)\\n• Release Date: September 2024\\n• Parameter Size: 180 billion\\n• Use Case: High-performance tasks requiring deep understanding and reasoning.\\n• Applications:',\n",
       " '1)Financial Analysis: Analyzing market trends, generating reports, and providing investment insights.\\n2)Legal Tech: Assisting in contract analysis, legal research, and compliance checks.\\n3) Healthcare: Supporting medical diagnosis, patient interaction, and research.',\n",
       " 'For a details, refer to the paper here',\n",
       " '6.Llama 3.1 70B',\n",
       " 'Developed by: Meta AI\\n• Release Date: July 23, 2024\\n• Parameter Size: 70 billion\\n• Use Case: Mid-to-large-scale applications with a balance of performance and resource efficiency.\\n• Applications:',\n",
       " '1)E-commerce: Personalizing product recommendations and improving search functionality.\\n2) Content Moderation: Automating the detection of inappropriate or harmful content.\\n3)Creative Writing: Assisting authors with story generation, character development, and editing.',\n",
       " 'For a details,refer to the paper here',\n",
       " '7.DeepSeek-MoE 16B',\n",
       " 'Developed by DeepSeek\\n• Release Date: January 9, 2024\\n• Parameter Size: 16 billion (2.7 billion activated per token)\\n• Use Case: Specialized tasks leveraging Mixture of Experts (MoE) architecture.\\n• Applications:',\n",
       " '1) Domain-Specific AI: Tailoring responses for industries like healthcare, finance, or law.\\n2) Efficient Training: Reducing computational costs for fine-tuning on specific datasets.\\n3) Custom Solutions: Building AI systems that require expertise in multiple areas.',\n",
       " 'For a details, refer to the paper here',\n",
       " '8.PaLM 2',\n",
       " 'Developed by: Google\\n• Release Date: May 2023\\n• Parameter Size: 340 billion\\n• Use Case: Multimodal and multilingual applications with advanced reasoning.\\n• Applications:',\n",
       " '1) Multimodal AI: Combining text, image, and audio understanding for applications like virtual assistants.\\n2) Language Translation: Real-time translation and localization for global businesses.\\n3) Research and Development: Supporting cutting-edge AI research and experimentation.',\n",
       " 'For a details,refer to the paper here',\n",
       " '9.Grok-1',\n",
       " 'Developed by xAI\\n• Release Date: November 2023\\n• Parameter Size: 314 billion\\n• Use Case: Applications requiring humor, creativity, and unconventional thinking.\\n• Applications:',\n",
       " '1) Entertainment: Generating jokes, stories, and engaging content for social media.\\n2) Creative Industries: Assisting in scriptwriting, game design, and marketing campaigns.\\n3) Personalized AI: Providing unique, human-like interactions for users.',\n",
       " '10.Llama 3.1 8B',\n",
       " 'Developed by: Meta AI\\n• Release Date: July 23, 2024\\n• Parameter Size: 8 billion\\n• Use Case: Lightweight applications with minimal resource requirements.\\n• Applications: \\n1)Mobile Apps: Integrating AI into apps for on-device processing.\\n2)Education: Providing lightweight tutoring and Q&A systems for students.\\n3)Small Businesses: Offering affordable AI solutions for customer support and content generation.',\n",
       " '11.Mistral Large 2',\n",
       " 'Developed by: Mistral AI\\n• Release Date: July 24, 2024\\n• Parameter Size: 123 billion\\n• Use Case: High-performance, general-purpose applications with a focus on scalability.\\n• Applications:',\n",
       " '1) Enterprise Solutions: Handling large-scale data processing and decision-making.\\n2)AI Research: Serving as a foundation for developing new AI models and techniques.\\n3)Content Generation: Producing high-quality, context-aware content for marketing and media.']"
      ]
     },
     "execution_count": 32,
     "metadata": {},
     "output_type": "execute_result"
    }
   ],
   "source": [
    "[i['text'] for i in r.json()[0]['data']['postResult']['content']['bodyModel']['paragraphs']]"
   ]
  },
  {
   "cell_type": "code",
   "execution_count": null,
   "metadata": {},
   "outputs": [],
   "source": []
  },
  {
   "cell_type": "code",
   "execution_count": null,
   "metadata": {},
   "outputs": [
    {
     "data": {
      "application/vnd.jupyter.widget-view+json": {
       "model_id": "982ff6bb19fc45338d9de9dff15d5f0d",
       "version_major": 2,
       "version_minor": 0
      },
      "text/plain": [
       "  0%|          | 0/22 [00:00<?, ?it/s]"
      ]
     },
     "metadata": {},
     "output_type": "display_data"
    },
    {
     "data": {
      "application/vnd.jupyter.widget-view+json": {
       "model_id": "6701f1b61cd04085ba4b59201c736ad2",
       "version_major": 2,
       "version_minor": 0
      },
      "text/plain": [
       "0it [00:00, ?it/s]"
      ]
     },
     "metadata": {},
     "output_type": "display_data"
    }
   ],
   "source": [
    "records_search = df_searchterms.to_dict(orient = 'records') #[:1]\n",
    "\n",
    "pbar_records = tqdm(total = len(records_search))\n",
    "pbar_records_pages = tqdm()\n",
    "for record in records_search:\n",
    "\n",
    "    local_folder = caminho_completo = root_folder /'raw_data' / 'list_items' / record['folder']\n",
    "    local_folder.mkdir(parents=True, exist_ok=True)\n",
    "\n",
    "\n",
    "    data[0]['variables']['query'] = record['searchterm']\n",
    "    page = 1\n",
    "    results = []\n",
    "    \n",
    "\n",
    "    while True:\n",
    "\n",
    "        data[0]['variables']['pagingOptions']['page'] = page\n",
    "        file = str(page)+'.json'\n",
    "        local_file = local_folder / file\n",
    "        page += 1\n",
    "\n",
    "        if local_file.exists() and local_file.is_file():  \n",
    "            continue\n",
    "            \n",
    "        r = requests.post(url, data= json.dumps(data), headers = headers)\n",
    "        json_response = r.json()\n",
    "        result = json_response[0]['data']['search']['posts']['items']\n",
    "        if len(result) == 0:\n",
    "            break\n",
    "\n",
    "        else:\n",
    "            with open(local_file, \"wb\") as f:\n",
    "                f.write(r.content)\n",
    "        \n",
    "        pbar_records_pages.update(1)\n",
    "\n",
    "        time.sleep(1.5)\n",
    "        alpha, beta = 2,5\n",
    "        val = np.random.beta(alpha, beta)\n",
    "        wait_time = 1 + val * (3 - 1)\n",
    "        time.sleep(wait_time) \n",
    "\n",
    "    pbar_records.update(1)\n",
    "\n",
    "    \n",
    "\n",
    "    \n",
    "    "
   ]
  },
  {
   "cell_type": "code",
   "execution_count": 6,
   "metadata": {},
   "outputs": [],
   "source": [
    "#for i in range(len(records_search_filter)):\n",
    "#    record, local_file = records_search_filter[i]\n",
    "#    local_file.unlink()"
   ]
  },
  {
   "cell_type": "code",
   "execution_count": null,
   "metadata": {},
   "outputs": [],
   "source": []
  }
 ],
 "metadata": {
  "kernelspec": {
   "display_name": "base",
   "language": "python",
   "name": "python3"
  },
  "language_info": {
   "codemirror_mode": {
    "name": "ipython",
    "version": 3
   },
   "file_extension": ".py",
   "mimetype": "text/x-python",
   "name": "python",
   "nbconvert_exporter": "python",
   "pygments_lexer": "ipython3",
   "version": "3.11.11"
  }
 },
 "nbformat": 4,
 "nbformat_minor": 2
}
