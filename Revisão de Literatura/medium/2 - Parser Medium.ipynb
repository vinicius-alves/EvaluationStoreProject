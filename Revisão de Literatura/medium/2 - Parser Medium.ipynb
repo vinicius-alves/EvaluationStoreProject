{
 "cells": [
  {
   "cell_type": "code",
   "execution_count": 2,
   "metadata": {},
   "outputs": [],
   "source": [
    "import time\n",
    "import pandas as pd\n",
    "from tqdm.notebook import tqdm\n",
    "from selenium import webdriver\n",
    "import numpy as np \n",
    "from pathlib import Path\n",
    "from unidecode import unidecode\n",
    "import requests, json\n",
    "\n",
    "path = 'data'\n",
    "\n",
    "root_folder = Path(path)\n",
    "root_folder.mkdir(parents=True, exist_ok=True)"
   ]
  },
  {
   "cell_type": "code",
   "execution_count": 3,
   "metadata": {},
   "outputs": [],
   "source": [
    "df_searchterms = pd.read_csv(root_folder /'medium_search_base.csv', sep = ';') \n",
    "list_dfs = []\n",
    "for record in df_searchterms.to_dict(orient = 'records'):\n",
    "    full_path_origin_folder = root_folder / 'raw_data'/ 'list_items' / record['folder']\n",
    "    lst_jsons = list((full_path_origin_folder ).rglob(\"*.json\")) \n",
    "    items = []\n",
    "    for json_file_path in lst_jsons:\n",
    "        if int(json_file_path.name.split('.json')[0]) > 20:\n",
    "            continue\n",
    "        with open(json_file_path, mode = 'rb') as file:\n",
    "            r =file.read()\n",
    "            json_file  = json.loads(r)\n",
    "        items += json_file[0]['data']['search']['posts']['items']\n",
    "\n",
    "    df = pd.DataFrame(items)\n",
    "    for k,v in record.items():\n",
    "        df[k] = v\n",
    "    list_dfs.append(df)\n",
    "\n",
    "df_searchterms = pd.concat(list_dfs, axis = 0, ignore_index=True)\n",
    "df_searchterms.sort_values(by = ['folder','voterCount','mediumUrl'],\\\n",
    "                            ascending=[False,False,False], ignore_index=True, inplace=True)\n",
    "df_searchterms.drop_duplicates(subset='algoliaObjectId',keep='first', inplace = True)\n",
    "df_searchterms['path_folder'] = path + '\\\\articles\\\\'+ df_searchterms['folder']\n",
    "df_searchterms['path_file'] = df_searchterms['path_folder']+ '\\\\'+df_searchterms['algoliaObjectId']+'.html'"
   ]
  },
  {
   "cell_type": "code",
   "execution_count": 7,
   "metadata": {},
   "outputs": [],
   "source": [
    "df_searchterms.to_csv(root_folder /'medium_search_base_detail.csv', sep = ';')"
   ]
  },
  {
   "cell_type": "code",
   "execution_count": 4,
   "metadata": {},
   "outputs": [],
   "source": [
    "driver = webdriver.Chrome()\n",
    "url = df_searchterms['mediumUrl'].values[0]\n",
    "driver.get(url)"
   ]
  },
  {
   "cell_type": "code",
   "execution_count": null,
   "metadata": {},
   "outputs": [
    {
     "data": {
      "application/vnd.jupyter.widget-view+json": {
       "model_id": "cef1992ffd2f447ab1dcc660ce182e8e",
       "version_major": 2,
       "version_minor": 0
      },
      "text/plain": [
       "  0%|          | 0/2626 [00:00<?, ?it/s]"
      ]
     },
     "metadata": {},
     "output_type": "display_data"
    }
   ],
   "source": [
    "records = df_searchterms.to_dict(orient = 'records')\n",
    "for record in tqdm(records):\n",
    "\n",
    "    full_path_folder = Path(record['path_folder'])\n",
    "    full_path_folder.mkdir(parents=True, exist_ok=True)\n",
    "\n",
    "    full_path = Path(record['path_file'])\n",
    "\n",
    "    if full_path.exists() and full_path.is_file():  \n",
    "        continue\n",
    "    \n",
    "    url = record['mediumUrl']\n",
    "    if not isinstance(url, str):\n",
    "        continue \n",
    "\n",
    "    try:\n",
    "        driver.get(url)\n",
    "        time.sleep(4)\n",
    "        alpha, beta = 2,5\n",
    "        val = np.random.beta(alpha, beta)\n",
    "        wait_time = 1 + val * (3 - 1)\n",
    "        time.sleep(wait_time) \n",
    "\n",
    "        if 'Confirme que você é humano' in driver.page_source:\n",
    "            break\n",
    "\n",
    "        if 'Verificando se você é humano' in driver.page_source:\n",
    "            break\n",
    "\n",
    "        if 'There was a problem providing the content you requested' in driver.page_source:\n",
    "            break\n",
    "\n",
    "        with open(record['path_file'], \"w\", encoding=\"utf-8\") as f:\n",
    "            f.write(driver.page_source)\n",
    "            \n",
    "    except Exception as e:\n",
    "            print('erro em ',url)\n",
    "            print(e)\n",
    "            error = True\n",
    "\n",
    "    "
   ]
  },
  {
   "cell_type": "code",
   "execution_count": null,
   "metadata": {},
   "outputs": [],
   "source": []
  }
 ],
 "metadata": {
  "kernelspec": {
   "display_name": "base",
   "language": "python",
   "name": "python3"
  },
  "language_info": {
   "codemirror_mode": {
    "name": "ipython",
    "version": 3
   },
   "file_extension": ".py",
   "mimetype": "text/x-python",
   "name": "python",
   "nbconvert_exporter": "python",
   "pygments_lexer": "ipython3",
   "version": "3.11.11"
  }
 },
 "nbformat": 4,
 "nbformat_minor": 2
}
